{
 "cells": [
  {
   "cell_type": "markdown",
   "id": "f26a49af",
   "metadata": {},
   "source": [
    "This notebook is to help me figure out the scaling of inputs for the adjoint model. Code is based off `~/Research/Carbon_Flux/optimization/testing_adjoint_affine_correct_default_init.ipynb`."
   ]
  },
  {
   "cell_type": "code",
   "execution_count": 1,
   "id": "d79d5f8f",
   "metadata": {},
   "outputs": [],
   "source": [
    "from carbonfluxtools.io_utils import create_gosat_df_year, get_ij\n",
    "from datetime import datetime\n",
    "import matplotlib.pyplot as plt\n",
    "import numpy as np\n",
    "import pandas as pd\n",
    "import PseudoNetCDF as pnc\n",
    "from scipy import stats"
   ]
  },
  {
   "cell_type": "code",
   "execution_count": 2,
   "id": "570386d3",
   "metadata": {},
   "outputs": [],
   "source": [
    "BASE_PATH = '/Users/mikestanley/Research/Carbon_Flux'"
   ]
  },
  {
   "cell_type": "code",
   "execution_count": 4,
   "id": "13e4d378",
   "metadata": {},
   "outputs": [
    {
     "name": "stdout",
     "output_type": "stream",
     "text": [
      "[0.00038254 0.00038693 0.00038722 0.00038731 0.00038729 0.00038711\n",
      " 0.0003872  0.00038734 0.00038786 0.00038789]\n",
      "[386.02160098 386.04329082 386.10872858 386.1235663  386.15169259\n",
      " 385.96844148 385.74438083 386.15837212 386.44930512 386.51587296]\n"
     ]
    }
   ],
   "source": [
    "# read in\n",
    "with open(BASE_PATH + '/data/testing_adjoint_data/test_17/xco2_modeled.txt', 'rb') as f:\n",
    "    f_c_orig = np.loadtxt(f)\n",
    "\n",
    "# scale appropriately\n",
    "f_c = f_c_orig * 1e6\n",
    "    \n",
    "# flip so going from oldest to newest observations\n",
    "f_c = np.flip(f_c)\n",
    "\n",
    "print(f_c_orig[:10])\n",
    "print(f_c[:10])"
   ]
  },
  {
   "cell_type": "code",
   "execution_count": 6,
   "id": "5b5355e7",
   "metadata": {},
   "outputs": [
    {
     "name": "stdout",
     "output_type": "stream",
     "text": [
      "[385.59 387.6  385.91 388.07 387.36 385.57 384.06 386.62 387.39 388.69]\n"
     ]
    }
   ],
   "source": [
    "# gosat observations\n",
    "GOSAT_DF_FP = BASE_PATH + '/data/generated_gosat/gosat_df_jan1_aug31_2010.csv'\n",
    "gosat_df = pd.read_csv(GOSAT_DF_FP)\n",
    "\n",
    "# isolate the gosat observations\n",
    "y = gosat_df['xco2'].values.copy()\n",
    "print(y[:10])"
   ]
  },
  {
   "cell_type": "code",
   "execution_count": 7,
   "id": "48b8b540",
   "metadata": {},
   "outputs": [],
   "source": [
    "# find the difference f(c) - y\n",
    "diff = f_c - gosat_df['xco2'].values\n",
    "\n",
    "# find the scaled diff\n",
    "scl_dff = 1 / (gosat_df['xco2_unc'] ** 2) * diff"
   ]
  },
  {
   "cell_type": "markdown",
   "id": "38ff3c8a",
   "metadata": {},
   "source": [
    "#### Distribution of `scl_dff`"
   ]
  },
  {
   "cell_type": "code",
   "execution_count": 8,
   "id": "1f778873",
   "metadata": {},
   "outputs": [
    {
     "data": {
      "image/png": "[encoded data removed]",
      "text/plain": [
       "<Figure size 576x360 with 1 Axes>"
      ]
     },
     "metadata": {
      "needs_background": "light"
     },
     "output_type": "display_data"
    }
   ],
   "source": [
    "# plot histogram of the forcing terms\n",
    "plt.figure(figsize=(8, 5))\n",
    "plt.hist(scl_dff, bins=40, density=True)\n",
    "x_s = np.linspace(-4, 4, num=500)\n",
    "plt.plot(x_s, stats.norm.pdf(x_s))\n",
    "plt.show()"
   ]
  },
  {
   "cell_type": "markdown",
   "id": "c151bca8",
   "metadata": {},
   "source": [
    "# Scale of true values in code"
   ]
  },
  {
   "cell_type": "markdown",
   "id": "f0f4b5db",
   "metadata": {},
   "source": [
    "I.e., in GEOS-Chem, on what numerical scale are operations happening?"
   ]
  },
  {
   "cell_type": "code",
   "execution_count": 11,
   "id": "f9859bbc",
   "metadata": {},
   "outputs": [
    {
     "name": "stdout",
     "output_type": "stream",
     "text": [
      "0    0.000386\n",
      "1    0.000388\n",
      "2    0.000386\n",
      "3    0.000388\n",
      "4    0.000387\n",
      "Name: xco2, dtype: float64\n",
      "0    1.802800e-06\n",
      "1    8.791200e-07\n",
      "2    1.802800e-06\n",
      "3    1.802800e-06\n",
      "4    1.802800e-06\n",
      "Name: xco2_unc, dtype: float64\n"
     ]
    }
   ],
   "source": [
    "xco2_scl_dwn = gosat_df['xco2'] * 1e-6\n",
    "xco2_unc_scl_dwn = gosat_df['xco2_unc'] * 1e-6\n",
    "print(xco2_scl_dwn.head())\n",
    "print(xco2_unc_scl_dwn.head())"
   ]
  },
  {
   "cell_type": "code",
   "execution_count": 15,
   "id": "7a1d664c",
   "metadata": {},
   "outputs": [
    {
     "data": {
      "image/png": "[encoded data removed]",
      "text/plain": [
       "<Figure size 576x360 with 1 Axes>"
      ]
     },
     "metadata": {
      "needs_background": "light"
     },
     "output_type": "display_data"
    }
   ],
   "source": [
    "scaled_distr = (1 / xco2_unc_scl_dwn) * (f_c_orig - xco2_scl_dwn)\n",
    "\n",
    "plt.figure(figsize=(8, 5))\n",
    "plt.hist(scaled_distr, bins=40, density=True)\n",
    "x_s = np.linspace(-4, 4, num=500)\n",
    "plt.plot(x_s, stats.norm.pdf(x_s))\n",
    "plt.show()"
   ]
  },
  {
   "cell_type": "code",
   "execution_count": null,
   "id": "b1810621",
   "metadata": {},
   "outputs": [],
   "source": []
  }
 ],
 "metadata": {
  "kernelspec": {
   "display_name": "Python 3 (ipykernel)",
   "language": "python",
   "name": "python3"
  },
  "language_info": {
   "codemirror_mode": {
    "name": "ipython",
    "version": 3
   },
   "file_extension": ".py",
   "mimetype": "text/x-python",
   "name": "python",
   "nbconvert_exporter": "python",
   "pygments_lexer": "ipython3",
   "version": "3.9.11"
  }
 },
 "nbformat": 4,
 "nbformat_minor": 5
}
