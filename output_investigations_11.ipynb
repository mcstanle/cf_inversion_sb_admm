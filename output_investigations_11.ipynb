{
 "cells": [
  {
   "cell_type": "markdown",
   "id": "ba7679d0",
   "metadata": {},
   "source": [
    "UEP run but using the negative of the LEP optimized point. As such, this notebook both,\n",
    "1. Analyzes results\n",
    "2. Creates starting position"
   ]
  },
  {
   "cell_type": "code",
   "execution_count": 1,
   "id": "7fcd8ce7",
   "metadata": {},
   "outputs": [],
   "source": [
    "import matplotlib\n",
    "import matplotlib.pyplot as plt\n",
    "import matplotlib.colors as mcolors\n",
    "import numpy as np\n",
    "import pandas as pd\n",
    "import pickle\n",
    "from scipy import stats"
   ]
  },
  {
   "cell_type": "code",
   "execution_count": 2,
   "id": "8ac567d0",
   "metadata": {},
   "outputs": [
    {
     "name": "stderr",
     "output_type": "stream",
     "text": [
      "**PNC:/Users/mikestanley/anaconda3/envs/mc_sampling/lib/python3.8/site-packages/PseudoNetCDF/pncwarn.py:24:UserWarning:\n",
      "  pyproj could not be found, so IO/API coordinates cannot be converted to lat/lon; to fix, install pyproj or basemap (e.g., `pip install pyproj)`\n"
     ]
    }
   ],
   "source": [
    "from generate_opt_objects import A_b_generation"
   ]
  },
  {
   "cell_type": "code",
   "execution_count": 3,
   "id": "b8306078",
   "metadata": {},
   "outputs": [],
   "source": [
    "# results base directory\n",
    "BASE_DIR = './data/carbon_flux/results'\n",
    "\n",
    "# save filepath\n",
    "SAVE_FIG_BASE = '../figures/interval_optimizations/continental_US_jun2010/dual/11'"
   ]
  },
  {
   "cell_type": "code",
   "execution_count": 4,
   "id": "e2f993ef",
   "metadata": {},
   "outputs": [],
   "source": [
    "# paths\n",
    "OBS_FP = '../fixed_optimization_inputs/y_affine_corrected.npy'"
   ]
  },
  {
   "cell_type": "code",
   "execution_count": 5,
   "id": "6dac7f84",
   "metadata": {},
   "outputs": [],
   "source": [
    "# get necessary objects\n",
    "with open(OBS_FP, 'rb') as f:\n",
    "    y_obs = np.load(f)\n",
    "    \n",
    "# gosat data\n",
    "with open('../fixed_optimization_inputs/gosat_df_jan1_aug31_2010.csv', 'rb') as f:\n",
    "    gosat_df = pd.read_csv(f)\n",
    "L_inv_vec = 1 / gosat_df.xco2_unc.values\n",
    "    \n",
    "# tranform the data\n",
    "y_tilde = np.multiply(L_inv_vec, y_obs)\n",
    "\n",
    "CONSTR_DIR = '/Users/mikestanley/Research/Carbon_Flux/optimization/data/sign_corrected'\n",
    "A, b = A_b_generation(\n",
    "    box_constraint_fp=CONSTR_DIR + '/scipy_bnds.pkl'\n",
    ")\n",
    "\n",
    "FUNC_FP = '/Users/mikestanley/Research/Carbon_Flux/optimization'\n",
    "FUNC_FP += '/src_admm/data/carbon_flux/objects/na_june_functional.npy'\n",
    "with open(FUNC_FP, 'rb') as f:\n",
    "    h = np.load(f)"
   ]
  },
  {
   "cell_type": "code",
   "execution_count": 6,
   "id": "76972e15",
   "metadata": {},
   "outputs": [],
   "source": [
    "# psi_alpha\n",
    "with open('./data/carbon_flux/objects/opt_res_cont.pkl', 'rb') as f:\n",
    "    opt_slack = pickle.load(f)\n",
    "    \n",
    "PSI_ALPHA = np.sqrt(stats.chi2.ppf(q=.95, df=1) + opt_slack[1])"
   ]
  },
  {
   "cell_type": "code",
   "execution_count": 7,
   "id": "9a2176ce",
   "metadata": {},
   "outputs": [],
   "source": [
    "def f_w(w, y=y_tilde, psi_alpha=PSI_ALPHA, b=b, c=np.zeros_like(b)):\n",
    "    \"\"\" Lower endpoint functional \"\"\"\n",
    "    return np.dot(w, y) - psi_alpha * np.linalg.norm(w) - np.dot(b, c)\n",
    "\n",
    "def f_w_uep(w, y=y_tilde, psi_alpha=PSI_ALPHA, b=b, c=np.zeros_like(b)):\n",
    "    \"\"\" Lower endpoint functional \"\"\"\n",
    "    return -np.dot(w, y) + psi_alpha * np.linalg.norm(w) + np.dot(b, c)"
   ]
  },
  {
   "cell_type": "markdown",
   "id": "28cda3b3",
   "metadata": {},
   "source": [
    "# Plotting Functions"
   ]
  },
  {
   "cell_type": "code",
   "execution_count": 8,
   "id": "adf48ab4",
   "metadata": {},
   "outputs": [],
   "source": [
    "def global_avg_plot(w_ser, title_str=None, figsize=(8, 5)):\n",
    "    \"\"\"\n",
    "    Globally averaged weights at daily, weekly, and month res\n",
    "    \n",
    "    Parameters\n",
    "    ----------\n",
    "        w_ser (pandas series) : weights indexed by time\n",
    "    \"\"\"\n",
    "    fig, ax = plt.subplots(ncols=1, nrows=1, figsize=figsize)\n",
    "    ts_day = w_ser.resample('D').mean()\n",
    "    ts_week = w_ser.resample('W').mean()\n",
    "    ts_month = w_ser.resample('M').mean()\n",
    "    ts_day.plot(ax=ax, label='Day')\n",
    "    ts_week.plot(ax=ax, label='Week')\n",
    "    ts_month.plot(ax=ax, label='Month')\n",
    "    ax.axhline(0, linestyle='--', color='gray')\n",
    "    ax.legend()\n",
    "    ax.set_title(title_str)\n",
    "    plt.show()\n",
    "    \n",
    "def month_map_plot(df, w_col_str, norm, vmin=None, vmax=None, figsize=(12, 16), save_fp=None):\n",
    "    \"\"\"\n",
    "    Monthly heat maps for the given weights\n",
    "    \n",
    "    Parameters\n",
    "    ----------\n",
    "        df        (pandas dataframe)  : contains columns - 'month', 'lon', 'lat', and w_col_str\n",
    "        w_col_str (str)               : name of w column in df to use\n",
    "        norm      (mcolors.Normalize) : for color scheme\n",
    "    \"\"\"\n",
    "    # w start\n",
    "    fig, ax = plt.subplots(ncols=2, nrows=4, figsize=figsize)\n",
    "    months = ['Jan', 'Feb', 'Mar', 'Apr', 'May', 'Jun', 'Jul', 'Aug']\n",
    "\n",
    "    for i in range(8):\n",
    "        row_idx = i // 2\n",
    "        col_idx = i % 2\n",
    "        month_idxs = df['month'].astype(int) == i + 1\n",
    "        sp_i = ax[row_idx, col_idx].scatter(\n",
    "            df['lon'][month_idxs], df['lat'][month_idxs],\n",
    "            c=df[w_col_str][month_idxs],\n",
    "            norm=norm, vmin=vmin, vmax=vmax,\n",
    "            s=14, cmap='seismic'\n",
    "        )\n",
    "        ax[row_idx, col_idx].set_title(months[i])\n",
    "\n",
    "    plt.colorbar(sp_i,ax=ax[0, 0])\n",
    "    if save_fp:\n",
    "        plt.savefig(save_fp, dpi=300)\n",
    "        plt.close()\n",
    "    else:\n",
    "        plt.show()"
   ]
  },
  {
   "cell_type": "markdown",
   "id": "579b34da",
   "metadata": {},
   "source": [
    "# Optimization diagnostics"
   ]
  },
  {
   "cell_type": "markdown",
   "id": "ee04e998",
   "metadata": {},
   "source": [
    "#### Convergence Plots"
   ]
  },
  {
   "cell_type": "code",
   "execution_count": 10,
   "id": "039fe0a2",
   "metadata": {},
   "outputs": [],
   "source": [
    "# read in the raw stdout file\n",
    "with open(BASE_DIR + '/11/stdout_from_lep08.txt', 'r') as f:\n",
    "    stdout0_raw = f.readlines()"
   ]
  },
  {
   "cell_type": "code",
   "execution_count": 15,
   "id": "afc1d5d4",
   "metadata": {},
   "outputs": [],
   "source": [
    "# isolate the trajectories from the w optimization\n",
    "all_obj_vals = [float(line[22:34].replace('D', 'e')) for line in stdout0_raw if 'At iterate' in line]\n",
    "traj_w_01 = all_obj_vals[:4]\n",
    "traj_c_01 = all_obj_vals[4:7]\n",
    "traj_w_02 = all_obj_vals[7:8]\n",
    "traj_c_02 = all_obj_vals[8:]"
   ]
  },
  {
   "cell_type": "code",
   "execution_count": 16,
   "id": "07659231",
   "metadata": {},
   "outputs": [
    {
     "data": {
      "image/png": "[encoded data removed]",
      "text/plain": [
       "<Figure size 1200x500 with 4 Axes>"
      ]
     },
     "metadata": {},
     "output_type": "display_data"
    }
   ],
   "source": [
    "fig, ax = plt.subplots(ncols=4, nrows=1, figsize=(12, 5), sharex=True)\n",
    "\n",
    "# iteration 1\n",
    "ax[0].plot(np.arange(1, len(traj_w_01) + 1), traj_w_01)\n",
    "ax[1].plot(np.arange(1, len(traj_c_01) + 1), traj_c_01)\n",
    "\n",
    "# # iteration 2\n",
    "ax[2].plot(np.arange(1, len(traj_w_02) + 1), traj_w_02)\n",
    "ax[3].plot(np.arange(1, len(traj_c_02) + 1), traj_c_02)\n",
    "\n",
    "\n",
    "# labels\n",
    "ax[0].set_title('Iter 1: w opt')\n",
    "ax[1].set_title('Iter 1: c opt')\n",
    "ax[2].set_title('Iter 2: w opt')\n",
    "ax[3].set_title('Iter 2: c opt')\n",
    "\n",
    "plt.show()"
   ]
  },
  {
   "cell_type": "markdown",
   "id": "372a62c8",
   "metadata": {},
   "source": [
    "#### Final Results"
   ]
  },
  {
   "cell_type": "code",
   "execution_count": 13,
   "id": "6bc783a9",
   "metadata": {},
   "outputs": [
    {
     "name": "stdout",
     "output_type": "stream",
     "text": [
      "{'objective_evals': [-625.4687056157022, 0.1300842893311588], 'w_opt_output': {'vectors': array([[ 0.00000000e+00,  0.00000000e+00,  0.00000000e+00, ...,\n",
      "        -5.20509415e-05, -7.72026359e-05, -3.19461194e-03],\n",
      "       [ 0.00000000e+00,  0.00000000e+00,  0.00000000e+00, ...,\n",
      "        -5.20509415e-05, -7.72026359e-05, -3.19461194e-03]]), 'status': array([1., 0.]), 'nfev': array([17., 11.]), 'njev': array([0., 0.])}, 'c_opt_output': {'vectors': array([[0., 0., 0., ..., 0., 0., 0.],\n",
      "       [0., 0., 0., ..., 0., 0., 0.]]), 'status': array([1., 1.]), 'nfev': array([3., 4.]), 'njev': array([0., 0.])}, 'lambda_opt_output': {'vectors': array([[0., 0., 0., ..., 0., 0., 0.],\n",
      "       [0., 0., 0., ..., 0., 0., 0.]])}, 'KTw_vecs': array([[0., 0., 0., ..., 0., 0., 0.],\n",
      "       [0., 0., 0., ..., 0., 0., 0.]])}\n"
     ]
    }
   ],
   "source": [
    "with open(BASE_DIR + '/11/final_results.pkl', 'rb') as f:\n",
    "    final_res = pickle.load(f)\n",
    "    \n",
    "print(final_res)"
   ]
  },
  {
   "cell_type": "code",
   "execution_count": 17,
   "id": "a38ba6f6",
   "metadata": {},
   "outputs": [
    {
     "name": "stdout",
     "output_type": "stream",
     "text": [
      "[1.1376822  0.19972542]\n"
     ]
    }
   ],
   "source": [
    "# get feasibility values for other iterations\n",
    "IDX = 2\n",
    "feasibility_11 = np.zeros(IDX)\n",
    "for i in range(0, IDX):\n",
    "    feasibility_11[i] = np.linalg.norm(h + A.T @ final_res['c_opt_output']['vectors'][i] - final_res['KTw_vecs'][i])\n",
    "    \n",
    "print(feasibility_11)"
   ]
  },
  {
   "cell_type": "markdown",
   "id": "dfa091ce",
   "metadata": {},
   "source": [
    "# Weights plots"
   ]
  },
  {
   "cell_type": "code",
   "execution_count": null,
   "id": "1227a0b0",
   "metadata": {},
   "outputs": [],
   "source": []
  },
  {
   "cell_type": "markdown",
   "id": "9bd55279",
   "metadata": {},
   "source": [
    "# Starting positions"
   ]
  },
  {
   "cell_type": "code",
   "execution_count": 10,
   "id": "8f3da50c",
   "metadata": {},
   "outputs": [],
   "source": [
    "# read in the ending points from LEP 08\n",
    "with open(BASE_DIR + '/08/final_results.pkl', 'rb') as f:\n",
    "    final_res_08 = pickle.load(f)"
   ]
  },
  {
   "cell_type": "code",
   "execution_count": 14,
   "id": "dffe708f",
   "metadata": {},
   "outputs": [],
   "source": [
    "# save the new points to a new iteration 11\n",
    "SAVE_BASE_SP = './data/carbon_flux/results/11/intermediate_starts'\n",
    "with open(SAVE_BASE_SP + '/w_start_from_neg_lep08.npy', 'wb') as f:\n",
    "    np.save(file=f, arr=-final_res_08['w_opt_output']['vectors'][-1])\n",
    "    \n",
    "# saving c starting position\n",
    "with open(SAVE_BASE_SP + '/c_start_from_neg_lep08.npy', 'wb') as f:\n",
    "    np.save(file=f, arr=final_res_08['c_opt_output']['vectors'][-1])\n",
    "    \n",
    "# saving lambda starting position\n",
    "with open(SAVE_BASE_SP + '/lambda_start_from_neg_lep08.npy', 'wb') as f:\n",
    "    np.save(file=f, arr=final_res_08['lambda_opt_output']['vectors'][-1])"
   ]
  },
  {
   "cell_type": "markdown",
   "id": "ebc0c708",
   "metadata": {},
   "source": [
    "#### From first two iterations"
   ]
  },
  {
   "cell_type": "code",
   "execution_count": 19,
   "id": "043770bf",
   "metadata": {},
   "outputs": [],
   "source": [
    "# save the new points to a new iteration 11\n",
    "SAVE_BASE_SP = './data/carbon_flux/results/11/intermediate_starts'\n",
    "with open(SAVE_BASE_SP + '/w_start_from_it2.npy', 'wb') as f:\n",
    "    np.save(file=f, arr=-final_res['w_opt_output']['vectors'][-1])\n",
    "    \n",
    "# saving c starting position\n",
    "with open(SAVE_BASE_SP + '/c_start_from_it2.npy', 'wb') as f:\n",
    "    np.save(file=f, arr=final_res['c_opt_output']['vectors'][-1])\n",
    "    \n",
    "# saving lambda starting position\n",
    "with open(SAVE_BASE_SP + '/lambda_start_from_it2.npy', 'wb') as f:\n",
    "    np.save(file=f, arr=final_res['lambda_opt_output']['vectors'][-1])"
   ]
  },
  {
   "cell_type": "code",
   "execution_count": null,
   "id": "a4069b38",
   "metadata": {},
   "outputs": [],
   "source": []
  }
 ],
 "metadata": {
  "kernelspec": {
   "display_name": "Python 3 (ipykernel)",
   "language": "python",
   "name": "python3"
  },
  "language_info": {
   "codemirror_mode": {
    "name": "ipython",
    "version": 3
   },
   "file_extension": ".py",
   "mimetype": "text/x-python",
   "name": "python",
   "nbconvert_exporter": "python",
   "pygments_lexer": "ipython3",
   "version": "3.8.18"
  }
 },
 "nbformat": 4,
 "nbformat_minor": 5
}
