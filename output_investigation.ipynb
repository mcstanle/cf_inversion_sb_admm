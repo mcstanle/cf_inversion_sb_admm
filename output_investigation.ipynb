{
 "cells": [
  {
   "cell_type": "markdown",
   "id": "d3a3e237",
   "metadata": {},
   "source": [
    "This notebook is primary geared towards looking at the algorithm output."
   ]
  },
  {
   "cell_type": "code",
   "execution_count": 1,
   "id": "b17c0440",
   "metadata": {},
   "outputs": [],
   "source": [
    "import matplotlib.pyplot as plt\n",
    "import numpy as np\n",
    "import pickle"
   ]
  },
  {
   "cell_type": "code",
   "execution_count": 3,
   "id": "bd1268d6",
   "metadata": {},
   "outputs": [],
   "source": [
    "from generate_opt_objects import A_b_generation"
   ]
  },
  {
   "cell_type": "markdown",
   "id": "6f85c0d8",
   "metadata": {},
   "source": [
    "# Feasibility conditions"
   ]
  },
  {
   "cell_type": "markdown",
   "id": "8d489fdc",
   "metadata": {},
   "source": [
    "\\begin{equation}\n",
    "\\lVert h + A^T c - K^T w \\rVert_2^2\n",
    "\\end{equation}"
   ]
  },
  {
   "cell_type": "code",
   "execution_count": 2,
   "id": "97cccd4e",
   "metadata": {},
   "outputs": [],
   "source": [
    "# import results dictionary\n",
    "with open('./data/carbon_flux/00_test/test_run.pkl', 'rb') as f:\n",
    "    res_dict = pickle.load(f)"
   ]
  },
  {
   "cell_type": "code",
   "execution_count": 8,
   "id": "fe80e49c",
   "metadata": {},
   "outputs": [
    {
     "data": {
      "text/plain": [
       "{'vectors': array([[-0.20470805,  0.4789517 , -0.51943647, ...,  0.97953803,\n",
       "          1.59051886,  0.72002719]]),\n",
       " 'status': array([0.]),\n",
       " 'nfev': array([4.]),\n",
       " 'njev': array([0.])}"
      ]
     },
     "execution_count": 8,
     "metadata": {},
     "output_type": "execute_result"
    }
   ],
   "source": [
    "res_dict['w_opt_output']"
   ]
  },
  {
   "cell_type": "code",
   "execution_count": 5,
   "id": "a163f03e",
   "metadata": {},
   "outputs": [
    {
     "name": "stdout",
     "output_type": "stream",
     "text": [
      "Dim of A: (11120, 26496)\n",
      "Dim of b: (11120,)\n"
     ]
    }
   ],
   "source": [
    "# import h\n",
    "with open('./data/carbon_flux/objects/na_june_functional.npy', 'rb') as f:\n",
    "    h = np.load(f)\n",
    "\n",
    "# import A\n",
    "A, b = A_b_generation(\n",
    "    box_constraint_fp='./data/carbon_flux/objects/scipy_bnds.pkl'\n",
    ")\n",
    "\n",
    "print(f'Dim of A: {A.shape}')\n",
    "print(f'Dim of b: {b.shape}')"
   ]
  },
  {
   "cell_type": "code",
   "execution_count": 6,
   "id": "abb00690",
   "metadata": {},
   "outputs": [
    {
     "name": "stdout",
     "output_type": "stream",
     "text": [
      "Number of iterations: 1\n"
     ]
    }
   ],
   "source": [
    "# extract plotting objects from results_dict\n",
    "KTw_vecs = res_dict['KTw_vecs'].copy()\n",
    "c_vecs = res_dict['c_opt_output']['vectors'].copy()\n",
    "\n",
    "# look at the norm of the constraint term\n",
    "num_iters = KTw_vecs.shape[0]\n",
    "print(f'Number of iterations: {num_iters}')\n",
    "\n",
    "constr_mat = np.array([\n",
    "    h + A.T @ c_vecs[i, :] - KTw_vecs[i, :]\n",
    "    for i in range(num_iters)\n",
    "])\n",
    "feasibility = np.sqrt(np.diagonal(constr_mat @ constr_mat.T))"
   ]
  },
  {
   "cell_type": "code",
   "execution_count": 7,
   "id": "9f35e18d",
   "metadata": {},
   "outputs": [
    {
     "data": {
      "text/plain": [
       "array([24.08039982])"
      ]
     },
     "execution_count": 7,
     "metadata": {},
     "output_type": "execute_result"
    }
   ],
   "source": [
    "feasibility"
   ]
  },
  {
   "cell_type": "code",
   "execution_count": null,
   "id": "34d2287d",
   "metadata": {},
   "outputs": [],
   "source": []
  }
 ],
 "metadata": {
  "kernelspec": {
   "display_name": "Python 3 (ipykernel)",
   "language": "python",
   "name": "python3"
  },
  "language_info": {
   "codemirror_mode": {
    "name": "ipython",
    "version": 3
   },
   "file_extension": ".py",
   "mimetype": "text/x-python",
   "name": "python",
   "nbconvert_exporter": "python",
   "pygments_lexer": "ipython3",
   "version": "3.9.11"
  }
 },
 "nbformat": 4,
 "nbformat_minor": 5
}
