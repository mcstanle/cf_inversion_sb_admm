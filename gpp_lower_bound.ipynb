{
 "cells": [
  {
   "cell_type": "markdown",
   "id": "e213f05e",
   "metadata": {},
   "source": [
    "This notebook evaluates the lower bound implied by the GPP fluxes alone.\n",
    "\n",
    "For related code, see\n",
    "1. `../src/notebooks/gpp_file_explore_functional_creation.ipynb`\n",
    "2. `../src/data/build_constraints.py`\n",
    "\n",
    "We also show the lower bound improvements implied by the optimization procedure."
   ]
  },
  {
   "cell_type": "code",
   "execution_count": 2,
   "id": "fbac1f2f",
   "metadata": {},
   "outputs": [],
   "source": [
    "import numpy as np"
   ]
  },
  {
   "cell_type": "code",
   "execution_count": 3,
   "id": "1699cd76",
   "metadata": {},
   "outputs": [
    {
     "name": "stdout",
     "output_type": "stream",
     "text": [
      "(26496,)\n",
      "(26496,)\n"
     ]
    }
   ],
   "source": [
    "# read in the computed constraint objects\n",
    "with open('/Users/mikestanley/Research/Carbon_Flux/optimization/data/sign_corrected/A_diag.npy', 'rb') as f:\n",
    "    A = np.load(f)\n",
    "    \n",
    "with open('/Users/mikestanley/Research/Carbon_Flux/optimization/data/sign_corrected/b_vec.npy', 'rb') as f:\n",
    "    b = np.load(f)\n",
    "    \n",
    "print(A.shape)\n",
    "print(b.shape)"
   ]
  },
  {
   "cell_type": "code",
   "execution_count": 5,
   "id": "16925248",
   "metadata": {},
   "outputs": [
    {
     "name": "stdout",
     "output_type": "stream",
     "text": [
      "(26496,)\n"
     ]
    }
   ],
   "source": [
    "# read in the unit-less functional vector\n",
    "with open(\n",
    "    '/Users/mikestanley/Research/Carbon_Flux/optimization/data/na_june_functional_no_control.npy', 'rb'\n",
    ") as f:\n",
    "    h_no_control = np.load(f)\n",
    "    \n",
    "print(h_no_control.shape)"
   ]
  },
  {
   "cell_type": "code",
   "execution_count": 14,
   "id": "dc2d1995",
   "metadata": {},
   "outputs": [
    {
     "name": "stdout",
     "output_type": "stream",
     "text": [
      "-4.624416554554736\n"
     ]
    }
   ],
   "source": [
    "# look at the lower bound -- NOTE this is the NEGATIVE of the GPP\n",
    "GPP_NA = -np.dot(h_no_control, b)\n",
    "print(GPP_NA)"
   ]
  },
  {
   "cell_type": "code",
   "execution_count": 19,
   "id": "ce677abd",
   "metadata": {},
   "outputs": [
    {
     "name": "stdout",
     "output_type": "stream",
     "text": [
      "LEP DUAL Percent Improvement  : -25.41%\n",
      "LEP PRIMAL Percent Improvement: -46.41%\n"
     ]
    }
   ],
   "source": [
    "# percent improvement by optimizations -- both number are from output_investigation_08.ipynb\n",
    "DUAL_LEP = -3.4492964972046596\n",
    "PRIMAL_LEP = -2.478 \n",
    "\n",
    "print(f'LEP DUAL Percent Improvement  : {(DUAL_LEP - GPP_NA) / GPP_NA * 100:.2f}%')\n",
    "print(f'LEP PRIMAL Percent Improvement: {(PRIMAL_LEP - GPP_NA) / GPP_NA * 100:.2f}%')"
   ]
  },
  {
   "cell_type": "code",
   "execution_count": null,
   "id": "959181fc",
   "metadata": {},
   "outputs": [],
   "source": []
  }
 ],
 "metadata": {
  "kernelspec": {
   "display_name": "Python 3 (ipykernel)",
   "language": "python",
   "name": "python3"
  },
  "language_info": {
   "codemirror_mode": {
    "name": "ipython",
    "version": 3
   },
   "file_extension": ".py",
   "mimetype": "text/x-python",
   "name": "python",
   "nbconvert_exporter": "python",
   "pygments_lexer": "ipython3",
   "version": "3.8.18"
  }
 },
 "nbformat": 4,
 "nbformat_minor": 5
}
