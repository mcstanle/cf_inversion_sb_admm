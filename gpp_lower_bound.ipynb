{
 "cells": [
  {
   "cell_type": "markdown",
   "id": "e213f05e",
   "metadata": {},
   "source": [
    "This notebook evaluates the lower bound implied by the GPP fluxes alone.\n",
    "\n",
    "For related code, see\n",
    "1. `../src/notebooks/gpp_file_explore_functional_creation.ipynb`\n",
    "2. `../src/data/build_constraints.py`\n",
    "\n",
    "We also show the lower bound improvements implied by the optimization procedure."
   ]
  },
  {
   "cell_type": "code",
   "execution_count": 1,
   "id": "fbac1f2f",
   "metadata": {},
   "outputs": [],
   "source": [
    "import matplotlib.pyplot as plt\n",
    "import numpy as np"
   ]
  },
  {
   "cell_type": "code",
   "execution_count": 13,
   "id": "2675653b",
   "metadata": {},
   "outputs": [],
   "source": [
    "COLORS = plt.rcParams['axes.prop_cycle'].by_key()['color']"
   ]
  },
  {
   "cell_type": "code",
   "execution_count": 2,
   "id": "91297aec",
   "metadata": {},
   "outputs": [],
   "source": [
    "import matplotlib\n",
    "\n",
    "# matplotlib settings\n",
    "matplotlib.rcParams['text.usetex'] = True\n",
    "plt.rcParams.update({'font.size': 18})\n",
    "plt.rc('text.latex', preamble=r'\\usepackage{bm}')"
   ]
  },
  {
   "cell_type": "code",
   "execution_count": 3,
   "id": "1699cd76",
   "metadata": {},
   "outputs": [
    {
     "name": "stdout",
     "output_type": "stream",
     "text": [
      "(26496,)\n",
      "(26496,)\n"
     ]
    }
   ],
   "source": [
    "# read in the computed constraint objects\n",
    "with open('/Users/mikestanley/Research/Carbon_Flux/optimization/data/sign_corrected/A_diag.npy', 'rb') as f:\n",
    "    A = np.load(f)\n",
    "    \n",
    "with open('/Users/mikestanley/Research/Carbon_Flux/optimization/data/sign_corrected/b_vec.npy', 'rb') as f:\n",
    "    b = np.load(f)\n",
    "    \n",
    "print(A.shape)\n",
    "print(b.shape)"
   ]
  },
  {
   "cell_type": "markdown",
   "id": "1b2cf10f",
   "metadata": {},
   "source": [
    "# North American Functional"
   ]
  },
  {
   "cell_type": "code",
   "execution_count": 4,
   "id": "16925248",
   "metadata": {},
   "outputs": [
    {
     "name": "stdout",
     "output_type": "stream",
     "text": [
      "(26496,)\n"
     ]
    }
   ],
   "source": [
    "# read in the unit-less functional vector\n",
    "with open(\n",
    "    '/Users/mikestanley/Research/Carbon_Flux/optimization/data/na_june_functional_no_control.npy', 'rb'\n",
    ") as f:\n",
    "    h_no_control = np.load(f)\n",
    "    \n",
    "print(h_no_control.shape)"
   ]
  },
  {
   "cell_type": "code",
   "execution_count": 5,
   "id": "dc2d1995",
   "metadata": {},
   "outputs": [
    {
     "name": "stdout",
     "output_type": "stream",
     "text": [
      "-4.624416554554736\n"
     ]
    }
   ],
   "source": [
    "# look at the lower bound -- NOTE this is the NEGATIVE of the GPP\n",
    "GPP_NA = -np.dot(h_no_control, b)\n",
    "print(GPP_NA)"
   ]
  },
  {
   "cell_type": "code",
   "execution_count": 6,
   "id": "ce677abd",
   "metadata": {},
   "outputs": [
    {
     "name": "stdout",
     "output_type": "stream",
     "text": [
      "LEP DUAL Percent Improvement  : -25.41%\n",
      "LEP PRIMAL Percent Improvement: -46.41%\n"
     ]
    }
   ],
   "source": [
    "# percent improvement by optimizations -- both number are from output_investigation_08.ipynb\n",
    "DUAL_LEP = -3.4492964972046596\n",
    "PRIMAL_LEP = -2.478 \n",
    "\n",
    "print(f'LEP DUAL Percent Improvement  : {(DUAL_LEP - GPP_NA) / GPP_NA * 100:.2f}%')\n",
    "print(f'LEP PRIMAL Percent Improvement: {(PRIMAL_LEP - GPP_NA) / GPP_NA * 100:.2f}%')"
   ]
  },
  {
   "cell_type": "code",
   "execution_count": 7,
   "id": "959181fc",
   "metadata": {},
   "outputs": [
    {
     "data": {
      "image/png": "[encoded data removed]",
      "text/plain": [
       "<Figure size 288x216 with 1 Axes>"
      ]
     },
     "metadata": {
      "needs_background": "light"
     },
     "output_type": "display_data"
    }
   ],
   "source": [
    "plt.figure(figsize=(4, 3))\n",
    "plt.bar(x=np.arange(3), height=[GPP_NA, DUAL_LEP, PRIMAL_LEP])\n",
    "plt.xticks(ticks=np.arange(3), labels=['GPP', 'Dual', 'Primal'])\n",
    "plt.ylabel('Flux (gC $m^{-2}$)')\n",
    "plt.show()"
   ]
  },
  {
   "cell_type": "markdown",
   "id": "39f90cea",
   "metadata": {},
   "source": [
    "# Northern Hemisphere Functional"
   ]
  },
  {
   "cell_type": "code",
   "execution_count": 8,
   "id": "0db47cff",
   "metadata": {},
   "outputs": [
    {
     "name": "stdout",
     "output_type": "stream",
     "text": [
      "(26496,)\n"
     ]
    }
   ],
   "source": [
    "# read in the unit-less functional vector\n",
    "with open(\n",
    "    '/Users/mikestanley/Research/Carbon_Flux/optimization/data/nh_june_functional_no_control.npy', 'rb'\n",
    ") as f:\n",
    "    h_nh_no_control = np.load(f)\n",
    "    \n",
    "print(h_nh_no_control.shape)"
   ]
  },
  {
   "cell_type": "code",
   "execution_count": 9,
   "id": "355be2d1",
   "metadata": {},
   "outputs": [
    {
     "name": "stdout",
     "output_type": "stream",
     "text": [
      "-3.9216272780600563\n"
     ]
    }
   ],
   "source": [
    "# look at the lower bound -- NOTE this is the NEGATIVE of the GPP\n",
    "GPP_NH = -np.dot(h_nh_no_control, b)\n",
    "print(GPP_NH)"
   ]
  },
  {
   "cell_type": "code",
   "execution_count": 10,
   "id": "e50dc3af",
   "metadata": {},
   "outputs": [
    {
     "data": {
      "image/png": "[encoded data removed]",
      "text/plain": [
       "<Figure size 432x288 with 1 Axes>"
      ]
     },
     "metadata": {
      "needs_background": "light"
     },
     "output_type": "display_data"
    }
   ],
   "source": [
    "plt.figure(figsize=(6, 4))\n",
    "DUAL_NH_LEP = -1.2322777703343457\n",
    "PRIMAL_NH_LEP = -0.733347424681431\n",
    "plt.bar(x=np.arange(3), height=[GPP_NH, DUAL_NH_LEP, PRIMAL_NH_LEP])\n",
    "plt.xticks(ticks=np.arange(3), labels=['GPP', 'Dual', 'Primal'])\n",
    "plt.title('(Current) optimized fluxes for NH Functional')\n",
    "plt.ylabel('Flux (gC $m^{-2}$)')\n",
    "plt.show()"
   ]
  },
  {
   "cell_type": "markdown",
   "id": "78ac97b9",
   "metadata": {},
   "source": [
    "# Plotting together"
   ]
  },
  {
   "cell_type": "code",
   "execution_count": 11,
   "id": "5623aeb4",
   "metadata": {},
   "outputs": [
    {
     "data": {
      "image/png": "[encoded data removed]",
      "text/plain": [
       "<Figure size 576x360 with 1 Axes>"
      ]
     },
     "metadata": {
      "needs_background": "light"
     },
     "output_type": "display_data"
    }
   ],
   "source": [
    "plt.figure(figsize=(8, 5))\n",
    "plt.bar(x=np.arange(3) - 0.2, height=[GPP_NA, DUAL_LEP, PRIMAL_LEP], width=0.33, label='CUS')\n",
    "plt.bar(x=np.arange(3) + 0.2, height=[GPP_NH, DUAL_NH_LEP, PRIMAL_NH_LEP], width=0.33, label='NH')\n",
    "plt.xticks(ticks=np.arange(3), labels=['GPP', 'Dual', 'Primal'])\n",
    "# plt.title('Optimized NA/NH bounds')\n",
    "plt.ylabel('Flux (gC/$m^2$/day)')\n",
    "plt.axhline(-0.298, linestyle='--', color='red', label='NH True Flux')\n",
    "plt.axhline(-0.5, linestyle='--', color='gray', label='NA True Flux')\n",
    "plt.legend()\n",
    "# plt.tight_layout()\n",
    "# plt.savefig('../figures/interval_optimizations/na_nh_lep_together.png', dpi=300)\n",
    "plt.show()"
   ]
  },
  {
   "cell_type": "markdown",
   "id": "a5a7a9ce",
   "metadata": {},
   "source": [
    "# Recreating the one-sided interval plot"
   ]
  },
  {
   "cell_type": "code",
   "execution_count": 15,
   "id": "d02b94f1",
   "metadata": {},
   "outputs": [],
   "source": [
    "# interval endpoints\n",
    "PRIMAL_LEP_NA = -2.47792285\n",
    "DUAL_LEP_NA = -3.4492964972046596\n",
    "SSB_LEP_NA = -3.664566151349848\n",
    "GPP_NA = -4.624416554554736\n",
    "FLUX_NA = -0.43602474289495025"
   ]
  },
  {
   "cell_type": "code",
   "execution_count": 32,
   "id": "6cd5744f",
   "metadata": {},
   "outputs": [
    {
     "data": {
      "image/png": "[encoded data removed]",
      "text/plain": [
       "<Figure size 504x216 with 2 Axes>"
      ]
     },
     "metadata": {
      "needs_background": "light"
     },
     "output_type": "display_data"
    }
   ],
   "source": [
    "# primary plot showing the actual LEP values\n",
    "fig, ax = plt.subplots(ncols=2, nrows=1, figsize=(7, 3), sharex=True, sharey=True)\n",
    "tick_vals = np.arange(3)\n",
    "\n",
    "\n",
    "# north american\n",
    "ax[0].vlines(x=[1.5], ymin=[DUAL_LEP_NA], ymax=[PRIMAL_LEP_NA], color=COLORS[1])\n",
    "ax[0].scatter(\n",
    "    [1.5, 1.5], [DUAL_LEP_NA, PRIMAL_LEP_NA], color=COLORS[1], marker='_', label='Primal-Dual Gap'\n",
    ")\n",
    "\n",
    "heights = np.array([GPP_NA, DUAL_LEP, PRIMAL_LEP])\n",
    "ax[0].bar(\n",
    "    x=tick_vals, width=0.07,\n",
    "    height=heights, color=COLORS[0]\n",
    ")\n",
    "ax[0].scatter(tick_vals, heights, marker='_', s=200, color=COLORS[0])\n",
    "ax[0].set_xticks(\n",
    "    ticks=tick_vals,\n",
    "    labels=['GPP', 'OSB-Dual', 'OSB-Primal'],\n",
    "    rotation=0\n",
    ")\n",
    "\n",
    "ax[0].axhline(FLUX_NA, linestyle='--', color='red', label=f'True NA Flux: {FLUX_NA:.3f}')\n",
    "ax[0].set_ylabel('Flux ($gC/m^{2}/day$)')\n",
    "ax[0].legend()\n",
    "\n",
    "# northern hemisphere\n",
    "ax[1].vlines(x=[1.5], ymin=[DUAL_NH_LEP], ymax=[PRIMAL_NH_LEP], color=COLORS[1])\n",
    "ax[1].scatter(\n",
    "    [1.5, 1.5], [DUAL_NH_LEP, PRIMAL_NH_LEP], color=COLORS[1], marker='_'\n",
    ")\n",
    "\n",
    "heights = np.array([GPP_NH, DUAL_NH_LEP, PRIMAL_NH_LEP])\n",
    "ax[1].bar(\n",
    "    x=tick_vals, width=0.07,\n",
    "    height=heights, color=COLORS[0]\n",
    ")\n",
    "ax[1].scatter(tick_vals, heights, marker='_', s=200, color=COLORS[0])\n",
    "ax[1].set_xticks(\n",
    "    ticks=tick_vals,\n",
    "    labels=['GPP', 'OSB-Dual', 'OSB-Primal'],\n",
    "    rotation=0\n",
    ")\n",
    "\n",
    "ax[1].axhline(-0.298, linestyle='--', color='red', label=f'True NH Flux: {-0.298}')\n",
    "ax[1].set_ylabel('Flux ($gC/m^{2}/day$)')\n",
    "ax[1].legend()\n",
    "\n",
    "ax[0].set_title('North American Region')\n",
    "ax[1].set_title('Northern Hemisphere')\n",
    "\n",
    "\n",
    "plt.tight_layout()\n",
    "plt.savefig('../figures/final_images/na_and_nh_intervals.png', dpi=500)\n",
    "plt.show()"
   ]
  },
  {
   "cell_type": "code",
   "execution_count": 34,
   "id": "4a2e468b",
   "metadata": {},
   "outputs": [
    {
     "data": {
      "text/plain": [
       "-0.4641653015536816"
      ]
     },
     "execution_count": 34,
     "metadata": {},
     "output_type": "execute_result"
    }
   ],
   "source": [
    "(PRIMAL_LEP_NA - GPP_NA)/GPP_NA"
   ]
  },
  {
   "cell_type": "code",
   "execution_count": 36,
   "id": "c2f75826",
   "metadata": {},
   "outputs": [
    {
     "data": {
      "text/plain": [
       "-0.8129992034724416"
      ]
     },
     "execution_count": 36,
     "metadata": {},
     "output_type": "execute_result"
    }
   ],
   "source": [
    "(PRIMAL_NH_LEP - GPP_NH)/GPP_NH"
   ]
  },
  {
   "cell_type": "code",
   "execution_count": 37,
   "id": "11d51a5f",
   "metadata": {},
   "outputs": [
    {
     "data": {
      "text/plain": [
       "-0.6857738681010178"
      ]
     },
     "execution_count": 37,
     "metadata": {},
     "output_type": "execute_result"
    }
   ],
   "source": [
    "(DUAL_NH_LEP - GPP_NH)/GPP_NH"
   ]
  },
  {
   "cell_type": "code",
   "execution_count": null,
   "id": "6c4e4e23",
   "metadata": {},
   "outputs": [],
   "source": []
  }
 ],
 "metadata": {
  "kernelspec": {
   "display_name": "Python 3 (ipykernel)",
   "language": "python",
   "name": "python3"
  },
  "language_info": {
   "codemirror_mode": {
    "name": "ipython",
    "version": 3
   },
   "file_extension": ".py",
   "mimetype": "text/x-python",
   "name": "python",
   "nbconvert_exporter": "python",
   "pygments_lexer": "ipython3",
   "version": "3.9.11"
  }
 },
 "nbformat": 4,
 "nbformat_minor": 5
}
