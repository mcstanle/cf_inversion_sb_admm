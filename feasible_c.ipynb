{
 "cells": [
  {
   "cell_type": "markdown",
   "id": "06bf2437",
   "metadata": {},
   "source": [
    "The goal of this notebook is to find a $\\hat{c} \\in \\mathbb{R}^d$ (where $d$ is the number of constraints) such that\n",
    "\\begin{equation}\n",
    "    \\lVert h - A^T \\hat{c} - K^T w \\rVert_2^2 = \\min_c \\lVert h - A^T c - K^T w \\rVert_2^2.\n",
    "\\end{equation}\n",
    "We want to do this for the starting $w$ so that we are starting the ADMM endpoint optimization as close to a feasible point as possible."
   ]
  },
  {
   "cell_type": "code",
   "execution_count": 31,
   "id": "582f8c7a",
   "metadata": {},
   "outputs": [],
   "source": [
    "from generate_opt_objects import A_b_generation, starting_point_generation\n",
    "import numpy as np\n",
    "import pickle\n",
    "from scipy.optimize import minimize"
   ]
  },
  {
   "cell_type": "code",
   "execution_count": 8,
   "id": "6ddcb5ea",
   "metadata": {},
   "outputs": [],
   "source": [
    "# paths\n",
    "OBS_FP = '../fixed_optimization_inputs/y_affine_corrected.npy'"
   ]
  },
  {
   "cell_type": "markdown",
   "id": "39d62157",
   "metadata": {},
   "source": [
    "# Current starting positions for $c$ and $w$"
   ]
  },
  {
   "cell_type": "code",
   "execution_count": 32,
   "id": "85b453ed",
   "metadata": {},
   "outputs": [],
   "source": [
    "# get necessary objects\n",
    "with open(OBS_FP, 'rb') as f:\n",
    "    y_obs = np.load(f)\n",
    "\n",
    "CONSTR_DIR = '/Users/mikestanley/Research/Carbon_Flux/optimization/data/sign_corrected'\n",
    "A, b = A_b_generation(\n",
    "    box_constraint_fp=CONSTR_DIR + '/scipy_bnds.pkl'\n",
    ")\n",
    "\n",
    "FUNC_FP = '/Users/mikestanley/Research/Carbon_Flux/optimization'\n",
    "FUNC_FP += '/src_admm/data/carbon_flux/objects/na_june_functional.npy'\n",
    "with open(FUNC_FP, 'rb') as f:\n",
    "    h = np.load(f)"
   ]
  },
  {
   "cell_type": "code",
   "execution_count": 47,
   "id": "33faf2bb",
   "metadata": {},
   "outputs": [
    {
     "name": "stdout",
     "output_type": "stream",
     "text": [
      "28267 11120 26496\n"
     ]
    }
   ],
   "source": [
    "# define dimensions\n",
    "m = y_obs.shape[0]\n",
    "d = b.shape[0]\n",
    "p = A.shape[1]\n",
    "\n",
    "print(m, d, p)"
   ]
  },
  {
   "cell_type": "code",
   "execution_count": 13,
   "id": "ecfa92a2",
   "metadata": {},
   "outputs": [],
   "source": [
    "w_sp, c_sp, lambda_sp = starting_point_generation(\n",
    "    m=m, d=d, p=p,\n",
    "    random_seed=12345\n",
    ")"
   ]
  },
  {
   "cell_type": "code",
   "execution_count": 15,
   "id": "a084ddaf",
   "metadata": {},
   "outputs": [
    {
     "data": {
      "text/plain": [
       "(array([], dtype=int64),)"
      ]
     },
     "execution_count": 15,
     "metadata": {},
     "output_type": "execute_result"
    }
   ],
   "source": [
    "np.where(c_sp != 0)"
   ]
  },
  {
   "cell_type": "markdown",
   "id": "e8d33a1c",
   "metadata": {},
   "source": [
    "# Getting $K^T w$ for the randomly selected $w$ start"
   ]
  },
  {
   "cell_type": "code",
   "execution_count": 17,
   "id": "e1fbb962",
   "metadata": {},
   "outputs": [],
   "source": [
    "HASH_DIR = '/Users/mikestanley/Research/Carbon_Flux/optimization/src_admm/data/carbon_flux/results/00'\n",
    "with open(HASH_DIR + '/h_table_lep.pkl', 'rb') as f:\n",
    "    KTw_dict = pickle.load(f)"
   ]
  },
  {
   "cell_type": "code",
   "execution_count": 25,
   "id": "f634c7e9",
   "metadata": {},
   "outputs": [],
   "source": [
    "# delete the 0 key\n",
    "del KTw_dict[0]"
   ]
  },
  {
   "cell_type": "code",
   "execution_count": 29,
   "id": "a0a99ecc",
   "metadata": {},
   "outputs": [
    {
     "name": "stdout",
     "output_type": "stream",
     "text": [
      "Min dist: 5.513985464335888 | Min dist key: -7416693065889372294\n"
     ]
    }
   ],
   "source": [
    "# determine the key with the correct K^Tw evaluation\n",
    "w_distances = dict()\n",
    "min_dist = 1000.\n",
    "min_dist_key = 0\n",
    "for key in KTw_dict.keys():\n",
    "    dist_key = np.linalg.norm(w_sp - KTw_dict[key]['w'])\n",
    "    w_distances[key] = dist_key\n",
    "    if dist_key < min_dist:\n",
    "        min_dist_key = key\n",
    "        min_dist = dist_key\n",
    "        \n",
    "print(f'Min dist: {min_dist} | Min dist key: {min_dist_key}')"
   ]
  },
  {
   "cell_type": "markdown",
   "id": "8e4f7e86",
   "metadata": {},
   "source": [
    "Since we do not have the $K^Tw$ corresponding to the first randomly generated $w$, we see if this is possible with _some_ $w$."
   ]
  },
  {
   "cell_type": "markdown",
   "id": "9b32f9b4",
   "metadata": {},
   "source": [
    "# Trying for feasibility with _some_ $w$"
   ]
  },
  {
   "cell_type": "markdown",
   "id": "895f5679",
   "metadata": {},
   "source": [
    "Use the above $w$"
   ]
  },
  {
   "cell_type": "code",
   "execution_count": 33,
   "id": "f3c6956c",
   "metadata": {},
   "outputs": [],
   "source": [
    "KEY = -7416693065889372294"
   ]
  },
  {
   "cell_type": "code",
   "execution_count": 42,
   "id": "09849677",
   "metadata": {},
   "outputs": [],
   "source": [
    "def obj_func(c, h=h, A=A, KTw=KTw_dict[KEY]['KTw']):\n",
    "    return np.dot(h + A.T @ c - KTw, h + A.T @ c - KTw)\n",
    "\n",
    "def obj_jac(c, h=h, A=A, KTw=KTw_dict[KEY]['KTw']):\n",
    "    return 2 * A @ (h + A.T @ c - KTw)"
   ]
  },
  {
   "cell_type": "code",
   "execution_count": 46,
   "id": "521d034c",
   "metadata": {},
   "outputs": [
    {
     "name": "stderr",
     "output_type": "stream",
     "text": [
      " This problem is unconstrained.\n"
     ]
    },
    {
     "name": "stdout",
     "output_type": "stream",
     "text": [
      "RUNNING THE L-BFGS-B CODE\n",
      "\n",
      "           * * *\n",
      "\n",
      "Machine precision = 2.220D-16\n",
      " N =        11120     M =           10\n",
      "\n",
      "At X0         0 variables are exactly at the bounds\n",
      "\n",
      "At iterate    0    f=  8.77036D+02    |proj g|=  1.18356D+01\n",
      "\n",
      "At iterate    1    f=  6.05888D+02    |proj g|=  9.83735D+00\n",
      "\n",
      "At iterate    2    f=  3.40102D-27    |proj g|=  2.13163D-14\n",
      "\n",
      "           * * *\n",
      "\n",
      "Tit   = total number of iterations\n",
      "Tnf   = total number of function evaluations\n",
      "Tnint = total number of segments explored during Cauchy searches\n",
      "Skip  = number of BFGS updates skipped\n",
      "Nact  = number of active bounds at final generalized Cauchy point\n",
      "Projg = norm of the final projected gradient\n",
      "F     = final function value\n",
      "\n",
      "           * * *\n",
      "\n",
      "   N    Tit     Tnf  Tnint  Skip  Nact     Projg        F\n",
      "11120      2      4      1     0     0   2.132D-14   3.401D-27\n",
      "  F =   3.4010185561787753E-027\n",
      "\n",
      "CONVERGENCE: NORM_OF_PROJECTED_GRADIENT_<=_PGTOL            \n"
     ]
    }
   ],
   "source": [
    "# perform the optimization\n",
    "c_opt_res = minimize(\n",
    "    fun=obj_func, x0=c_sp, method='L-BFGS-B',\n",
    "    jac=obj_jac,\n",
    "    options={'iprint': 1}\n",
    ")"
   ]
  },
  {
   "cell_type": "code",
   "execution_count": 45,
   "id": "24667dd7",
   "metadata": {},
   "outputs": [
    {
     "data": {
      "text/plain": [
       "2.4150288105011026"
      ]
     },
     "execution_count": 45,
     "metadata": {},
     "output_type": "execute_result"
    }
   ],
   "source": [
    "c_opt_res['x'].max()"
   ]
  },
  {
   "cell_type": "markdown",
   "id": "341102cb",
   "metadata": {},
   "source": [
    "# Feasibility with the actual initial $w$"
   ]
  },
  {
   "cell_type": "code",
   "execution_count": 55,
   "id": "73ec3908",
   "metadata": {},
   "outputs": [],
   "source": [
    "# read in the randomly generated w\n",
    "with open('../fixed_optimization_inputs/KTw_for_w_start.npy', 'rb') as f:\n",
    "    KTw_0 = np.load(f)"
   ]
  },
  {
   "cell_type": "code",
   "execution_count": 56,
   "id": "dff7a995",
   "metadata": {},
   "outputs": [],
   "source": [
    "def obj_func_0(c, h=h, A=A, KTw=KTw_0):\n",
    "    return np.dot(h + A.T @ c - KTw, h + A.T @ c - KTw)\n",
    "\n",
    "def obj_jac_0(c, h=h, A=A, KTw=KTw_0):\n",
    "    return 2 * A @ (h + A.T @ c - KTw)"
   ]
  },
  {
   "cell_type": "code",
   "execution_count": 57,
   "id": "595cff12",
   "metadata": {},
   "outputs": [
    {
     "name": "stderr",
     "output_type": "stream",
     "text": [
      " This problem is unconstrained.\n"
     ]
    },
    {
     "name": "stdout",
     "output_type": "stream",
     "text": [
      "RUNNING THE L-BFGS-B CODE\n",
      "\n",
      "           * * *\n",
      "\n",
      "Machine precision = 2.220D-16\n",
      " N =        11120     M =           10\n",
      "\n",
      "At X0         0 variables are exactly at the bounds\n",
      "\n",
      "At iterate    0    f=  1.19458D+03    |proj g|=  1.51110D+01\n",
      "\n",
      "At iterate    1    f=  8.73952D+02    |proj g|=  1.29250D+01\n",
      "\n",
      "At iterate    2    f=  2.07112D-27    |proj g|=  2.30926D-14\n",
      "\n",
      "           * * *\n",
      "\n",
      "Tit   = total number of iterations\n",
      "Tnf   = total number of function evaluations\n",
      "Tnint = total number of segments explored during Cauchy searches\n",
      "Skip  = number of BFGS updates skipped\n",
      "Nact  = number of active bounds at final generalized Cauchy point\n",
      "Projg = norm of the final projected gradient\n",
      "F     = final function value\n",
      "\n",
      "           * * *\n",
      "\n",
      "   N    Tit     Tnf  Tnint  Skip  Nact     Projg        F\n",
      "11120      2      4      1     0     0   2.309D-14   2.071D-27\n",
      "  F =   2.0711166807940697E-027\n",
      "\n",
      "CONVERGENCE: NORM_OF_PROJECTED_GRADIENT_<=_PGTOL            \n"
     ]
    }
   ],
   "source": [
    "# perform the optimization\n",
    "c_opt_res_0 = minimize(\n",
    "    fun=obj_func_0, x0=c_sp, method='L-BFGS-B',\n",
    "    jac=obj_jac_0,\n",
    "    options={'iprint': 1}\n",
    ")"
   ]
  },
  {
   "cell_type": "code",
   "execution_count": 58,
   "id": "93d58628",
   "metadata": {},
   "outputs": [
    {
     "name": "stdout",
     "output_type": "stream",
     "text": [
      "Max c val: 7.555489540100109\n",
      "Objective: 2.0711166807940697e-27\n"
     ]
    }
   ],
   "source": [
    "print(f'Max c val: {c_opt_res_0[\"x\"].max()}')\n",
    "print(f'Objective: {c_opt_res_0[\"fun\"]}')"
   ]
  },
  {
   "cell_type": "markdown",
   "id": "defa7805",
   "metadata": {},
   "source": [
    "# Save the new starting points"
   ]
  },
  {
   "cell_type": "code",
   "execution_count": 54,
   "id": "9345b696",
   "metadata": {},
   "outputs": [],
   "source": [
    "SAVE_DIR = '/Users/mikestanley/Research/Carbon_Flux/optimization'\n",
    "SAVE_DIR += '/src_admm/data/carbon_flux/results/01/intermediate_starts'"
   ]
  },
  {
   "cell_type": "code",
   "execution_count": 59,
   "id": "d721b85e",
   "metadata": {},
   "outputs": [],
   "source": [
    "# w\n",
    "with open(SAVE_DIR + \"/cheyenne_stop_w_vec.npy\", 'wb') as f:\n",
    "    np.save(file=f, arr=w_sp)\n",
    "\n",
    "# c\n",
    "with open(SAVE_DIR + \"/cheyenne_stop_c_vec.npy\", 'wb') as f:\n",
    "    np.save(file=f, arr=c_opt_res_0[\"x\"])\n",
    "\n",
    "# lambda\n",
    "with open(SAVE_DIR + \"/cheyenne_stop_lambda_vec.npy\", 'wb') as f:\n",
    "    np.save(file=f, arr=lambda_sp)"
   ]
  },
  {
   "cell_type": "code",
   "execution_count": null,
   "id": "75d5a146",
   "metadata": {},
   "outputs": [],
   "source": []
  }
 ],
 "metadata": {
  "kernelspec": {
   "display_name": "Python 3 (ipykernel)",
   "language": "python",
   "name": "python3"
  },
  "language_info": {
   "codemirror_mode": {
    "name": "ipython",
    "version": 3
   },
   "file_extension": ".py",
   "mimetype": "text/x-python",
   "name": "python",
   "nbconvert_exporter": "python",
   "pygments_lexer": "ipython3",
   "version": "3.9.11"
  }
 },
 "nbformat": 4,
 "nbformat_minor": 5
}
