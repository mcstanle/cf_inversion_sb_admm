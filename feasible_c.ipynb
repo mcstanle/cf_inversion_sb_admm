{
 "cells": [
  {
   "cell_type": "markdown",
   "id": "92c4b3fa",
   "metadata": {},
   "source": [
    "The goal of this notebook is to find a $\\hat{c} \\in \\mathbb{R}^d$ (where $d$ is the number of constraints) such that\n",
    "\\begin{equation}\n",
    "    \\lVert h - A^T \\hat{c} - K^T w \\rVert_2^2 = \\min_c \\lVert h - A^T c - K^T w \\rVert_2^2.\n",
    "\\end{equation}\n",
    "We want to do this for the starting $w$ so that we are starting the ADMM endpoint optimization as close to a feasible point as possible."
   ]
  },
  {
   "cell_type": "code",
   "execution_count": 31,
   "id": "7a6d1dca",
   "metadata": {},
   "outputs": [],
   "source": [
    "from generate_opt_objects import A_b_generation, starting_point_generation\n",
    "import numpy as np\n",
    "import pickle\n",
    "from scipy.optimize import minimize"
   ]
  },
  {
   "cell_type": "code",
   "execution_count": 8,
   "id": "32a2ce96",
   "metadata": {},
   "outputs": [],
   "source": [
    "# paths\n",
    "OBS_FP = '../fixed_optimization_inputs/y_affine_corrected.npy'"
   ]
  },
  {
   "cell_type": "markdown",
   "id": "4c9a16d0",
   "metadata": {},
   "source": [
    "# Current starting positions for $c$ and $w$"
   ]
  },
  {
   "cell_type": "code",
   "execution_count": 32,
   "id": "2609c484",
   "metadata": {},
   "outputs": [],
   "source": [
    "# get necessary objects\n",
    "with open(OBS_FP, 'rb') as f:\n",
    "    y_obs = np.load(f)\n",
    "\n",
    "CONSTR_DIR = '/Users/mikestanley/Research/Carbon_Flux/optimization/data/sign_corrected'\n",
    "A, b = A_b_generation(\n",
    "    box_constraint_fp=CONSTR_DIR + '/scipy_bnds.pkl'\n",
    ")\n",
    "\n",
    "FUNC_FP = '/Users/mikestanley/Research/Carbon_Flux/optimization'\n",
    "FUNC_FP += '/src_admm/data/carbon_flux/objects/na_june_functional.npy'\n",
    "with open(FUNC_FP, 'rb') as f:\n",
    "    h = np.load(f)"
   ]
  },
  {
   "cell_type": "code",
   "execution_count": 47,
   "id": "2e27d00d",
   "metadata": {},
   "outputs": [
    {
     "name": "stdout",
     "output_type": "stream",
     "text": [
      "28267 11120 26496\n"
     ]
    }
   ],
   "source": [
    "# define dimensions\n",
    "m = y_obs.shape[0]\n",
    "d = b.shape[0]\n",
    "p = A.shape[1]\n",
    "\n",
    "print(m, d, p)"
   ]
  },
  {
   "cell_type": "code",
   "execution_count": 13,
   "id": "bdc17cff",
   "metadata": {},
   "outputs": [],
   "source": [
    "w_sp, c_sp, lambda_sp = starting_point_generation(\n",
    "    m=m, d=d, p=p,\n",
    "    random_seed=12345\n",
    ")"
   ]
  },
  {
   "cell_type": "code",
   "execution_count": 15,
   "id": "7c7947e6",
   "metadata": {},
   "outputs": [
    {
     "data": {
      "text/plain": [
       "(array([], dtype=int64),)"
      ]
     },
     "execution_count": 15,
     "metadata": {},
     "output_type": "execute_result"
    }
   ],
   "source": [
    "np.where(c_sp != 0)"
   ]
  },
  {
   "cell_type": "markdown",
   "id": "05d61af0",
   "metadata": {},
   "source": [
    "# Getting $K^T w$ for the randomly selected $w$ start"
   ]
  },
  {
   "cell_type": "code",
   "execution_count": 17,
   "id": "196a5972",
   "metadata": {},
   "outputs": [],
   "source": [
    "HASH_DIR = '/Users/mikestanley/Research/Carbon_Flux/optimization/src_admm/data/carbon_flux/results/00'\n",
    "with open(HASH_DIR + '/h_table_lep.pkl', 'rb') as f:\n",
    "    KTw_dict = pickle.load(f)"
   ]
  },
  {
   "cell_type": "code",
   "execution_count": 25,
   "id": "fd7c8e95",
   "metadata": {},
   "outputs": [],
   "source": [
    "# delete the 0 key\n",
    "del KTw_dict[0]"
   ]
  },
  {
   "cell_type": "code",
   "execution_count": 29,
   "id": "d9d50801",
   "metadata": {},
   "outputs": [
    {
     "name": "stdout",
     "output_type": "stream",
     "text": [
      "Min dist: 5.513985464335888 | Min dist key: -7416693065889372294\n"
     ]
    }
   ],
   "source": [
    "# determine the key with the correct K^Tw evaluation\n",
    "w_distances = dict()\n",
    "min_dist = 1000.\n",
    "min_dist_key = 0\n",
    "for key in KTw_dict.keys():\n",
    "    dist_key = np.linalg.norm(w_sp - KTw_dict[key]['w'])\n",
    "    w_distances[key] = dist_key\n",
    "    if dist_key < min_dist:\n",
    "        min_dist_key = key\n",
    "        min_dist = dist_key\n",
    "        \n",
    "print(f'Min dist: {min_dist} | Min dist key: {min_dist_key}')"
   ]
  },
  {
   "cell_type": "markdown",
   "id": "a93ac097",
   "metadata": {},
   "source": [
    "Since we do not have the $K^Tw$ corresponding to the first randomly generated $w$, we see if this is possible with _some_ $w$."
   ]
  },
  {
   "cell_type": "markdown",
   "id": "4b59ce55",
   "metadata": {},
   "source": [
    "# Trying for feasibility with _some_ $w$"
   ]
  },
  {
   "cell_type": "markdown",
   "id": "16618fb4",
   "metadata": {},
   "source": [
    "Use the above $w$"
   ]
  },
  {
   "cell_type": "code",
   "execution_count": 33,
   "id": "3897a829",
   "metadata": {},
   "outputs": [],
   "source": [
    "KEY = -7416693065889372294"
   ]
  },
  {
   "cell_type": "code",
   "execution_count": 42,
   "id": "856c8a98",
   "metadata": {},
   "outputs": [],
   "source": [
    "def obj_func(c, h=h, A=A, KTw=KTw_dict[KEY]['KTw']):\n",
    "    return np.dot(h + A.T @ c - KTw, h + A.T @ c - KTw)\n",
    "\n",
    "def obj_jac(c, h=h, A=A, KTw=KTw_dict[KEY]['KTw']):\n",
    "    return 2 * A @ (h + A.T @ c - KTw)"
   ]
  },
  {
   "cell_type": "code",
   "execution_count": 46,
   "id": "29e3735b",
   "metadata": {},
   "outputs": [
    {
     "name": "stderr",
     "output_type": "stream",
     "text": [
      " This problem is unconstrained.\n"
     ]
    },
    {
     "name": "stdout",
     "output_type": "stream",
     "text": [
      "RUNNING THE L-BFGS-B CODE\n",
      "\n",
      "           * * *\n",
      "\n",
      "Machine precision = 2.220D-16\n",
      " N =        11120     M =           10\n",
      "\n",
      "At X0         0 variables are exactly at the bounds\n",
      "\n",
      "At iterate    0    f=  8.77036D+02    |proj g|=  1.18356D+01\n",
      "\n",
      "At iterate    1    f=  6.05888D+02    |proj g|=  9.83735D+00\n",
      "\n",
      "At iterate    2    f=  3.40102D-27    |proj g|=  2.13163D-14\n",
      "\n",
      "           * * *\n",
      "\n",
      "Tit   = total number of iterations\n",
      "Tnf   = total number of function evaluations\n",
      "Tnint = total number of segments explored during Cauchy searches\n",
      "Skip  = number of BFGS updates skipped\n",
      "Nact  = number of active bounds at final generalized Cauchy point\n",
      "Projg = norm of the final projected gradient\n",
      "F     = final function value\n",
      "\n",
      "           * * *\n",
      "\n",
      "   N    Tit     Tnf  Tnint  Skip  Nact     Projg        F\n",
      "11120      2      4      1     0     0   2.132D-14   3.401D-27\n",
      "  F =   3.4010185561787753E-027\n",
      "\n",
      "CONVERGENCE: NORM_OF_PROJECTED_GRADIENT_<=_PGTOL            \n"
     ]
    }
   ],
   "source": [
    "# perform the optimization\n",
    "c_opt_res = minimize(\n",
    "    fun=obj_func, x0=c_sp, method='L-BFGS-B',\n",
    "    jac=obj_jac,\n",
    "    options={'iprint': 1}\n",
    ")"
   ]
  },
  {
   "cell_type": "code",
   "execution_count": 45,
   "id": "0fd89c77",
   "metadata": {},
   "outputs": [
    {
     "data": {
      "text/plain": [
       "2.4150288105011026"
      ]
     },
     "execution_count": 45,
     "metadata": {},
     "output_type": "execute_result"
    }
   ],
   "source": [
    "c_opt_res['x'].max()"
   ]
  },
  {
   "cell_type": "code",
   "execution_count": null,
   "id": "e6481424",
   "metadata": {},
   "outputs": [],
   "source": [
    "np.save()"
   ]
  }
 ],
 "metadata": {
  "kernelspec": {
   "display_name": "Python 3 (ipykernel)",
   "language": "python",
   "name": "python3"
  },
  "language_info": {
   "codemirror_mode": {
    "name": "ipython",
    "version": 3
   },
   "file_extension": ".py",
   "mimetype": "text/x-python",
   "name": "python",
   "nbconvert_exporter": "python",
   "pygments_lexer": "ipython3",
   "version": "3.9.11"
  }
 },
 "nbformat": 4,
 "nbformat_minor": 5
}
