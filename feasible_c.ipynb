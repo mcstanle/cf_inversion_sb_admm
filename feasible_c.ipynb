{
 "cells": [
  {
   "cell_type": "markdown",
   "id": "d63f920a",
   "metadata": {},
   "source": [
    "The goal of this notebook is to find a $\\hat{c} \\in \\mathbb{R}^d$ (where $d$ is the number of constraints) such that\n",
    "\\begin{equation}\n",
    "    \\lVert h - A^T \\hat{c} - K^T w \\rVert_2^2 = \\min_c \\lVert h - A^T c - K^T w \\rVert_2^2.\n",
    "\\end{equation}\n",
    "We want to do this for the starting $w$ so that we are starting the ADMM endpoint optimization as close to a feasible point as possible."
   ]
  },
  {
   "cell_type": "code",
   "execution_count": 1,
   "id": "1f94eea0",
   "metadata": {},
   "outputs": [],
   "source": [
    "from generate_opt_objects import A_b_generation, starting_point_generation\n",
    "import matplotlib.pyplot as plt\n",
    "import numpy as np\n",
    "import pickle\n",
    "from scipy.optimize import minimize"
   ]
  },
  {
   "cell_type": "code",
   "execution_count": 2,
   "id": "b54a0d98",
   "metadata": {},
   "outputs": [],
   "source": [
    "# paths\n",
    "OBS_FP = '../fixed_optimization_inputs/y_affine_corrected.npy'"
   ]
  },
  {
   "cell_type": "markdown",
   "id": "1dba2829",
   "metadata": {},
   "source": [
    "# Current starting positions for $c$ and $w$"
   ]
  },
  {
   "cell_type": "code",
   "execution_count": 3,
   "id": "2bec6809",
   "metadata": {},
   "outputs": [],
   "source": [
    "# get necessary objects\n",
    "with open(OBS_FP, 'rb') as f:\n",
    "    y_obs = np.load(f)\n",
    "\n",
    "CONSTR_DIR = '/Users/mikestanley/Research/Carbon_Flux/optimization/data/sign_corrected'\n",
    "A, b = A_b_generation(\n",
    "    box_constraint_fp=CONSTR_DIR + '/scipy_bnds.pkl'\n",
    ")\n",
    "\n",
    "FUNC_FP = '/Users/mikestanley/Research/Carbon_Flux/optimization'\n",
    "FUNC_FP += '/src_admm/data/carbon_flux/objects/na_june_functional.npy'\n",
    "with open(FUNC_FP, 'rb') as f:\n",
    "    h = np.load(f)"
   ]
  },
  {
   "cell_type": "code",
   "execution_count": 4,
   "id": "d546facc",
   "metadata": {},
   "outputs": [
    {
     "name": "stdout",
     "output_type": "stream",
     "text": [
      "28267 11120 26496\n"
     ]
    }
   ],
   "source": [
    "# define dimensions\n",
    "m = y_obs.shape[0]\n",
    "d = b.shape[0]\n",
    "p = A.shape[1]\n",
    "\n",
    "print(m, d, p)"
   ]
  },
  {
   "cell_type": "code",
   "execution_count": 5,
   "id": "989a3744",
   "metadata": {},
   "outputs": [],
   "source": [
    "w_sp, c_sp, lambda_sp = starting_point_generation(\n",
    "    m=m, d=d, p=p,\n",
    "    random_seed=12345\n",
    ")"
   ]
  },
  {
   "cell_type": "markdown",
   "id": "9fd8c4cf",
   "metadata": {},
   "source": [
    "# Getting $K^T w$ for the randomly selected $w$ start"
   ]
  },
  {
   "cell_type": "code",
   "execution_count": 17,
   "id": "2594ccd0",
   "metadata": {},
   "outputs": [],
   "source": [
    "HASH_DIR = '/Users/mikestanley/Research/Carbon_Flux/optimization/src_admm/data/carbon_flux/results/00'\n",
    "with open(HASH_DIR + '/h_table_lep.pkl', 'rb') as f:\n",
    "    KTw_dict = pickle.load(f)"
   ]
  },
  {
   "cell_type": "code",
   "execution_count": 25,
   "id": "b508f71e",
   "metadata": {},
   "outputs": [],
   "source": [
    "# delete the 0 key\n",
    "del KTw_dict[0]"
   ]
  },
  {
   "cell_type": "code",
   "execution_count": 29,
   "id": "2aef8ab9",
   "metadata": {},
   "outputs": [
    {
     "name": "stdout",
     "output_type": "stream",
     "text": [
      "Min dist: 5.513985464335888 | Min dist key: -7416693065889372294\n"
     ]
    }
   ],
   "source": [
    "# determine the key with the correct K^Tw evaluation\n",
    "w_distances = dict()\n",
    "min_dist = 1000.\n",
    "min_dist_key = 0\n",
    "for key in KTw_dict.keys():\n",
    "    dist_key = np.linalg.norm(w_sp - KTw_dict[key]['w'])\n",
    "    w_distances[key] = dist_key\n",
    "    if dist_key < min_dist:\n",
    "        min_dist_key = key\n",
    "        min_dist = dist_key\n",
    "        \n",
    "print(f'Min dist: {min_dist} | Min dist key: {min_dist_key}')"
   ]
  },
  {
   "cell_type": "markdown",
   "id": "12cfe05d",
   "metadata": {},
   "source": [
    "Since we do not have the $K^Tw$ corresponding to the first randomly generated $w$, we see if this is possible with _some_ $w$."
   ]
  },
  {
   "cell_type": "markdown",
   "id": "c0fd09d1",
   "metadata": {},
   "source": [
    "# Trying for feasibility with _some_ $w$"
   ]
  },
  {
   "cell_type": "markdown",
   "id": "e1f70779",
   "metadata": {},
   "source": [
    "Use the above $w$"
   ]
  },
  {
   "cell_type": "code",
   "execution_count": 33,
   "id": "4eb1b549",
   "metadata": {},
   "outputs": [],
   "source": [
    "KEY = -7416693065889372294"
   ]
  },
  {
   "cell_type": "code",
   "execution_count": 42,
   "id": "3dd7e328",
   "metadata": {},
   "outputs": [],
   "source": [
    "def obj_func(c, h=h, A=A, KTw=KTw_dict[KEY]['KTw']):\n",
    "    return np.dot(h + A.T @ c - KTw, h + A.T @ c - KTw)\n",
    "\n",
    "def obj_jac(c, h=h, A=A, KTw=KTw_dict[KEY]['KTw']):\n",
    "    return 2 * A @ (h + A.T @ c - KTw)"
   ]
  },
  {
   "cell_type": "code",
   "execution_count": 46,
   "id": "7e8a859a",
   "metadata": {},
   "outputs": [
    {
     "name": "stderr",
     "output_type": "stream",
     "text": [
      " This problem is unconstrained.\n"
     ]
    },
    {
     "name": "stdout",
     "output_type": "stream",
     "text": [
      "RUNNING THE L-BFGS-B CODE\n",
      "\n",
      "           * * *\n",
      "\n",
      "Machine precision = 2.220D-16\n",
      " N =        11120     M =           10\n",
      "\n",
      "At X0         0 variables are exactly at the bounds\n",
      "\n",
      "At iterate    0    f=  8.77036D+02    |proj g|=  1.18356D+01\n",
      "\n",
      "At iterate    1    f=  6.05888D+02    |proj g|=  9.83735D+00\n",
      "\n",
      "At iterate    2    f=  3.40102D-27    |proj g|=  2.13163D-14\n",
      "\n",
      "           * * *\n",
      "\n",
      "Tit   = total number of iterations\n",
      "Tnf   = total number of function evaluations\n",
      "Tnint = total number of segments explored during Cauchy searches\n",
      "Skip  = number of BFGS updates skipped\n",
      "Nact  = number of active bounds at final generalized Cauchy point\n",
      "Projg = norm of the final projected gradient\n",
      "F     = final function value\n",
      "\n",
      "           * * *\n",
      "\n",
      "   N    Tit     Tnf  Tnint  Skip  Nact     Projg        F\n",
      "11120      2      4      1     0     0   2.132D-14   3.401D-27\n",
      "  F =   3.4010185561787753E-027\n",
      "\n",
      "CONVERGENCE: NORM_OF_PROJECTED_GRADIENT_<=_PGTOL            \n"
     ]
    }
   ],
   "source": [
    "# perform the optimization\n",
    "c_opt_res = minimize(\n",
    "    fun=obj_func, x0=c_sp, method='L-BFGS-B',\n",
    "    jac=obj_jac,\n",
    "    options={'iprint': 1}\n",
    ")"
   ]
  },
  {
   "cell_type": "code",
   "execution_count": 45,
   "id": "37e68b3e",
   "metadata": {},
   "outputs": [
    {
     "data": {
      "text/plain": [
       "2.4150288105011026"
      ]
     },
     "execution_count": 45,
     "metadata": {},
     "output_type": "execute_result"
    }
   ],
   "source": [
    "c_opt_res['x'].max()"
   ]
  },
  {
   "cell_type": "markdown",
   "id": "c9917eeb",
   "metadata": {},
   "source": [
    "# Feasibility with the actual initial $w$"
   ]
  },
  {
   "cell_type": "code",
   "execution_count": 6,
   "id": "6c981a64",
   "metadata": {},
   "outputs": [],
   "source": [
    "# read in the randomly generated w\n",
    "with open('../fixed_optimization_inputs/KTw_for_w_start.npy', 'rb') as f:\n",
    "    KTw_0 = np.load(f)"
   ]
  },
  {
   "cell_type": "code",
   "execution_count": 7,
   "id": "24bf966a",
   "metadata": {},
   "outputs": [],
   "source": [
    "def obj_func_0(c, h=h, A=A, KTw=KTw_0):\n",
    "    return np.dot(h + A.T @ c - KTw, h + A.T @ c - KTw)\n",
    "\n",
    "def obj_jac_0(c, h=h, A=A, KTw=KTw_0):\n",
    "    return 2 * A @ (h + A.T @ c - KTw)"
   ]
  },
  {
   "cell_type": "code",
   "execution_count": 12,
   "id": "7f9bd585",
   "metadata": {},
   "outputs": [
    {
     "name": "stdout",
     "output_type": "stream",
     "text": [
      "RUNNING THE L-BFGS-B CODE\n",
      "\n",
      "           * * *\n",
      "\n",
      "Machine precision = 2.220D-16\n",
      " N =        11120     M =           10\n",
      "\n",
      "At X0         0 variables are exactly at the bounds\n",
      "\n",
      "At iterate    0    f=  1.19458D+03    |proj g|=  1.51110D+01\n"
     ]
    },
    {
     "name": "stderr",
     "output_type": "stream",
     "text": [
      " This problem is unconstrained.\n"
     ]
    },
    {
     "name": "stdout",
     "output_type": "stream",
     "text": [
      "\n",
      "At iterate    1    f=  8.73952D+02    |proj g|=  1.29250D+01\n",
      "\n",
      "At iterate    2    f=  2.07112D-27    |proj g|=  2.30926D-14\n",
      "\n",
      "           * * *\n",
      "\n",
      "Tit   = total number of iterations\n",
      "Tnf   = total number of function evaluations\n",
      "Tnint = total number of segments explored during Cauchy searches\n",
      "Skip  = number of BFGS updates skipped\n",
      "Nact  = number of active bounds at final generalized Cauchy point\n",
      "Projg = norm of the final projected gradient\n",
      "F     = final function value\n",
      "\n",
      "           * * *\n",
      "\n",
      "   N    Tit     Tnf  Tnint  Skip  Nact     Projg        F\n",
      "11120      2      4      1     0     0   2.309D-14   2.071D-27\n",
      "  F =   2.0711166807940697E-027\n",
      "\n",
      "CONVERGENCE: NORM_OF_PROJECTED_GRADIENT_<=_PGTOL            \n"
     ]
    }
   ],
   "source": [
    "# perform the optimization\n",
    "c_opt_res_0 = minimize(\n",
    "    fun=obj_func_0, x0=c_sp, method='L-BFGS-B',\n",
    "    jac=obj_jac_0,\n",
    "    options={'iprint': 1}\n",
    ")"
   ]
  },
  {
   "cell_type": "code",
   "execution_count": 13,
   "id": "2ef1a625",
   "metadata": {},
   "outputs": [
    {
     "name": "stdout",
     "output_type": "stream",
     "text": [
      "Max c val: 7.555489540100109\n",
      "Objective: 2.0711166807940697e-27\n"
     ]
    }
   ],
   "source": [
    "print(f'Max c val: {c_opt_res_0[\"x\"].max()}')\n",
    "print(f'Objective: {c_opt_res_0[\"fun\"]}')"
   ]
  },
  {
   "cell_type": "code",
   "execution_count": 16,
   "id": "940f38a5",
   "metadata": {},
   "outputs": [
    {
     "data": {
      "image/png": "[encoded data removed]",
      "text/plain": [
       "<Figure size 576x360 with 1 Axes>"
      ]
     },
     "metadata": {
      "needs_background": "light"
     },
     "output_type": "display_data"
    }
   ],
   "source": [
    "# look at the distribution of the parameter values\n",
    "plt.figure(figsize=(8, 5))\n",
    "plt.hist(c_opt_res_0['x'], bins=50, density=True)\n",
    "plt.show()"
   ]
  },
  {
   "cell_type": "markdown",
   "id": "6634fa28",
   "metadata": {},
   "source": [
    "# Save the new starting points"
   ]
  },
  {
   "cell_type": "code",
   "execution_count": 54,
   "id": "e40f413a",
   "metadata": {},
   "outputs": [],
   "source": [
    "SAVE_DIR = '/Users/mikestanley/Research/Carbon_Flux/optimization'\n",
    "SAVE_DIR += '/src_admm/data/carbon_flux/results/01/intermediate_starts'"
   ]
  },
  {
   "cell_type": "code",
   "execution_count": 59,
   "id": "1e70ef01",
   "metadata": {},
   "outputs": [],
   "source": [
    "# w\n",
    "with open(SAVE_DIR + \"/cheyenne_stop_w_vec.npy\", 'wb') as f:\n",
    "    np.save(file=f, arr=w_sp)\n",
    "\n",
    "# c\n",
    "with open(SAVE_DIR + \"/cheyenne_stop_c_vec.npy\", 'wb') as f:\n",
    "    np.save(file=f, arr=c_opt_res_0[\"x\"])\n",
    "\n",
    "# lambda\n",
    "with open(SAVE_DIR + \"/cheyenne_stop_lambda_vec.npy\", 'wb') as f:\n",
    "    np.save(file=f, arr=lambda_sp)"
   ]
  },
  {
   "cell_type": "markdown",
   "id": "92fe3efe",
   "metadata": {},
   "source": [
    "# Feasibility with actual $w$ and non-neg constraint on $c$"
   ]
  },
  {
   "cell_type": "code",
   "execution_count": 8,
   "id": "2629ad1d",
   "metadata": {},
   "outputs": [
    {
     "name": "stdout",
     "output_type": "stream",
     "text": [
      "RUNNING THE L-BFGS-B CODE\n",
      "\n",
      "           * * *\n",
      "\n",
      "Machine precision = 2.220D-16\n",
      " N =        11120     M =           10\n",
      "\n",
      "At X0     11120 variables are exactly at the bounds\n",
      "\n",
      "At iterate    0    f=  1.19458D+03    |proj g|=  1.51110D+01\n",
      "\n",
      "At iterate    1    f=  9.18622D+02    |proj g|=  1.26005D+01\n",
      "\n",
      "At iterate    2    f=  2.88828D+02    |proj g|=  1.24345D-14\n",
      "\n",
      "           * * *\n",
      "\n",
      "Tit   = total number of iterations\n",
      "Tnf   = total number of function evaluations\n",
      "Tnint = total number of segments explored during Cauchy searches\n",
      "Skip  = number of BFGS updates skipped\n",
      "Nact  = number of active bounds at final generalized Cauchy point\n",
      "Projg = norm of the final projected gradient\n",
      "F     = final function value\n",
      "\n",
      "           * * *\n",
      "\n",
      "   N    Tit     Tnf  Tnint  Skip  Nact     Projg        F\n",
      "11120      2      4      2     0  5676   1.243D-14   2.888D+02\n",
      "  F =   288.82787394424327     \n",
      "\n",
      "CONVERGENCE: NORM_OF_PROJECTED_GRADIENT_<=_PGTOL            \n"
     ]
    }
   ],
   "source": [
    "# perform the optimization\n",
    "c_opt_res_0_nn = minimize(\n",
    "    fun=obj_func_0, x0=c_sp, method='L-BFGS-B',\n",
    "    jac=obj_jac_0, bounds=[(0, None)] * 11120,\n",
    "    options={'iprint': 1}\n",
    ")"
   ]
  },
  {
   "cell_type": "code",
   "execution_count": 9,
   "id": "21429294",
   "metadata": {},
   "outputs": [
    {
     "name": "stdout",
     "output_type": "stream",
     "text": [
      "Max c val: 7.555489540100091\n",
      "Objective: 288.82787394424327\n"
     ]
    }
   ],
   "source": [
    "print(f'Max c val: {c_opt_res_0_nn[\"x\"].max()}')\n",
    "print(f'Objective: {c_opt_res_0_nn[\"fun\"]}')"
   ]
  },
  {
   "cell_type": "code",
   "execution_count": 10,
   "id": "2ebdf8b7",
   "metadata": {},
   "outputs": [
    {
     "data": {
      "image/png": "[encoded data removed]",
      "text/plain": [
       "<Figure size 576x360 with 1 Axes>"
      ]
     },
     "metadata": {
      "needs_background": "light"
     },
     "output_type": "display_data"
    }
   ],
   "source": [
    "# look at the distribution of the parameter values\n",
    "plt.figure(figsize=(8, 5))\n",
    "plt.hist(c_opt_res_0_nn['x'], bins=50, density=True)\n",
    "plt.show()"
   ]
  },
  {
   "cell_type": "code",
   "execution_count": 11,
   "id": "e61e3bfe",
   "metadata": {},
   "outputs": [
    {
     "name": "stdout",
     "output_type": "stream",
     "text": [
      "How much does the optimized c help the feasibility criterion (2-norm)?\n",
      "Feasibility criterion with all zeros: 34.562684606345876\n",
      "Feasibility criterion with opt point: 16.994936714923163\n"
     ]
    }
   ],
   "source": [
    "print('How much does the optimized c help the feasibility criterion (2-norm)?')\n",
    "print(f'Feasibility criterion with all zeros: {np.sqrt(obj_func_0(c=c_sp))}')\n",
    "print(f'Feasibility criterion with opt point: {np.sqrt(obj_func_0(c=c_opt_res_0_nn[\"x\"]))}')"
   ]
  },
  {
   "cell_type": "markdown",
   "id": "b934e530",
   "metadata": {},
   "source": [
    "#### Saving the above"
   ]
  },
  {
   "cell_type": "code",
   "execution_count": 12,
   "id": "71bf8815",
   "metadata": {},
   "outputs": [],
   "source": [
    "SAVE_DIR = '/Users/mikestanley/Research/Carbon_Flux/optimization'\n",
    "SAVE_DIR += '/src_admm/data/carbon_flux/results/02/intermediate_starts'"
   ]
  },
  {
   "cell_type": "code",
   "execution_count": 13,
   "id": "f9d9ef42",
   "metadata": {},
   "outputs": [
    {
     "name": "stderr",
     "output_type": "stream",
     "text": [
      "Bad pipe message: %s [b'\\xe6\\x88\\x98?u\"\\x85{g\\r\\xfe\\xe1\\xbe\\xba$\\xac\\x9f? \\n\\xe2\\x04\\xe8\\x10\\xd6D\\xab; \\x018x\\x8at6v\\xca\\x08Y\\xa1\\xeb\\x15\\x1b1,S\\xe2&^\\xd9\\x91\\x00***\\x13\\x01\\x13\\x02\\x13\\x03\\xc0,\\xc0+\\xcc\\xa9\\xc00\\xc0/\\xcc\\xa8\\xc0\\n\\xc0\\t\\xc0\\x14\\xc0\\x13\\x00\\x9d\\x00\\x9c\\x005\\x00/\\xc0\\x08\\xc0\\x12\\x00\\n\\x01\\x00\\x01\\x89\\x8a\\x8a\\x00\\x00\\x00\\x17\\x00\\x00\\xff\\x01\\x00\\x01\\x00\\x00\\n\\x00\\x0c\\x00\\n\\xaa\\xaa\\x00\\x1d\\x00\\x17\\x00\\x18\\x00\\x19\\x00\\x0b\\x00\\x02\\x01\\x00\\x00\\x10\\x00\\x0e\\x00\\x0c\\x02h2\\x08http/1.1\\x00\\x05\\x00\\x05\\x01\\x00\\x00\\x00\\x00\\x00\\r\\x00\\x18\\x00\\x16\\x04\\x03\\x08\\x04\\x04\\x01\\x05\\x03\\x02\\x03\\x08\\x05\\x08\\x05\\x05\\x01\\x08\\x06\\x06\\x01\\x02\\x01\\x00\\x12\\x00\\x00\\x003\\x00+\\x00)\\xaa\\xaa\\x00\\x01\\x00\\x00\\x1d\\x00 \\x1f?\\xb6\\xfa\\xce=\\x96lT&A\\xdd7\\n\\x8c\\xb6\\x11\\xc4\\xf2E\\xab\\xf2yPeO\\xb6B\\xfd\\xb2\\xf9T\\x00-\\x00\\x02\\x01\\x01\\x00+\\x00\\x0b']\n",
      "Bad pipe message: %s [b'Z\\x03\\x04\\x03\\x03\\x03\\x02\\x03\\x01']\n",
      "Bad pipe message: %s [b'C\\xee+\\xbd\\n\\xa9\\xca\\x98\\x16\\xec\\x90H\\x1f\\xde\\x03\\xa7\\x0c| g\\x1b\\xcc\\x97\\x95\\xad\\xae\\xcb\\x99k\\x18\\x93\\x9e\\xb5\\x9b\\xd3V0:/V^\\x92f,\\xea\\x9d\\x86\\x81^']\n",
      "Bad pipe message: %s [b'\\x00,\\n\\n\\x13\\x01\\x13\\x02\\x13\\x03\\xc0,\\xc0+\\xcc\\xa9\\xc00\\xc0/\\xcc\\xa8\\xc0\\n\\xc0\\t\\xc0\\x14\\xc0\\x13\\x00\\x9d\\x00\\x9c\\x005\\x00/\\xc0\\x08\\xc0\\x12\\x00\\nV\\x00\\x01\\x00\\x01\\x87JJ\\x00\\x00\\x00\\x17\\x00\\x00\\xff\\x01\\x00\\x01\\x00\\x00\\n\\x00\\x0c\\x00\\njj\\x00\\x1d\\x00\\x17\\x00\\x18\\x00\\x19\\x00\\x0b\\x00\\x02\\x01\\x00\\x00\\x10\\x00\\x0e\\x00\\x0c\\x02h2\\x08http/1.']\n",
      "Bad pipe message: %s [b'qv\\xccz\\xf1\\xbb\\r\\xd2\\xf6\\xe6\\x97XE\\xb3+E\\x99\\xb4\\x00\\x00\\x14\\xc0\\n\\xc0\\t\\xc0\\x14\\xc0\\x13\\x005\\x00/\\xc0\\x08\\xc0\\x12\\x00\\nV\\x00\\x01\\x00\\x00<\\x00']\n",
      "Bad pipe message: %s [b'\\x05\\x00\\x05\\x01\\x00\\x00\\x00\\x00\\x00\\r\\x00\\x18\\x00\\x16\\x04\\x03\\x08\\x04\\x04\\x01\\x05\\x03\\x02\\x03\\x08\\x05\\x08\\x05\\x05\\x01\\x08\\x06\\x06\\x01\\x02\\x01\\x00\\x12\\x00\\x00\\x003\\x00+\\x00)jj']\n",
      "Bad pipe message: %s [b'\\x00\\xff\\x01\\x00\\x01\\x00\\x00\\n\\x00\\n\\x00\\x08\\x00\\x1d\\x00\\x17\\x00\\x18\\x00\\x19\\x00\\x0b']\n"
     ]
    }
   ],
   "source": [
    "# w\n",
    "with open(SAVE_DIR + \"/cheyenne_stop_w_vec.npy\", 'wb') as f:\n",
    "    np.save(file=f, arr=w_sp)\n",
    "\n",
    "# c\n",
    "with open(SAVE_DIR + \"/cheyenne_stop_c_vec.npy\", 'wb') as f:\n",
    "    np.save(file=f, arr=c_opt_res_0_nn[\"x\"])\n",
    "\n",
    "# lambda\n",
    "with open(SAVE_DIR + \"/cheyenne_stop_lambda_vec.npy\", 'wb') as f:\n",
    "    np.save(file=f, arr=lambda_sp)"
   ]
  },
  {
   "cell_type": "code",
   "execution_count": null,
   "id": "cbf33ae3",
   "metadata": {},
   "outputs": [],
   "source": []
  }
 ],
 "metadata": {
  "kernelspec": {
   "display_name": "Python 3 (ipykernel)",
   "language": "python",
   "name": "python3"
  },
  "language_info": {
   "codemirror_mode": {
    "name": "ipython",
    "version": 3
   },
   "file_extension": ".py",
   "mimetype": "text/x-python",
   "name": "python",
   "nbconvert_exporter": "python",
   "pygments_lexer": "ipython3",
   "version": "3.9.11"
  }
 },
 "nbformat": 4,
 "nbformat_minor": 5
}
