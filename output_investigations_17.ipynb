{
 "cells": [
  {
   "cell_type": "markdown",
   "id": "2b775e54",
   "metadata": {},
   "source": [
    "UEP run 17 results. Using $\\mu = 10^4$. This run is notable in that is uses a different $(A, b)$ combination in the optimization such that the January scaling factors are held in $[1 - 0.5, 1 + 0.5]$.\n",
    "\n",
    "For starting positions, we made the following choices\n",
    "1. $w$: use the negative stop of LEP 08\n",
    "2. $c$: to indicate that none of the constraints is active at start, we initialize this point to 0s.\n",
    "3. $\\lambda$: we start at a vector of 1s. This notebook both analyzes the results and generates the starting positions.\n",
    "\n",
    "Other components\n",
    "1. Optimization sub-results\n",
    "2. Generate starting positions"
   ]
  },
  {
   "cell_type": "code",
   "execution_count": 1,
   "id": "0a2ffc42",
   "metadata": {},
   "outputs": [],
   "source": [
    "import matplotlib\n",
    "import matplotlib.pyplot as plt\n",
    "import matplotlib.colors as mcolors\n",
    "import numpy as np\n",
    "import pandas as pd\n",
    "import pickle\n",
    "from scipy import stats"
   ]
  },
  {
   "cell_type": "code",
   "execution_count": 2,
   "id": "8d6c14fd",
   "metadata": {},
   "outputs": [
    {
     "name": "stderr",
     "output_type": "stream",
     "text": [
      "**PNC:/Users/mikestanley/anaconda3/envs/mc_sampling/lib/python3.8/site-packages/PseudoNetCDF/pncwarn.py:24:UserWarning:\n",
      "  pyproj could not be found, so IO/API coordinates cannot be converted to lat/lon; to fix, install pyproj or basemap (e.g., `pip install pyproj)`\n"
     ]
    }
   ],
   "source": [
    "from generate_opt_objects import A_b_generation"
   ]
  },
  {
   "cell_type": "code",
   "execution_count": 3,
   "id": "404cb0b6",
   "metadata": {},
   "outputs": [],
   "source": [
    "# results base directory\n",
    "BASE_DIR = './data/carbon_flux/results'\n",
    "\n",
    "# save filepath\n",
    "SAVE_FIG_BASE = '../figures/interval_optimizations/continental_US_jun2010/dual/17'"
   ]
  },
  {
   "cell_type": "code",
   "execution_count": 4,
   "id": "0acb4955",
   "metadata": {},
   "outputs": [],
   "source": [
    "# paths\n",
    "OBS_FP = '../fixed_optimization_inputs/y_affine_corrected.npy'"
   ]
  },
  {
   "cell_type": "code",
   "execution_count": 9,
   "id": "2bd9257c",
   "metadata": {},
   "outputs": [],
   "source": [
    "# get necessary objects\n",
    "with open(OBS_FP, 'rb') as f:\n",
    "    y_obs = np.load(f)\n",
    "    \n",
    "# gosat data\n",
    "with open('../fixed_optimization_inputs/gosat_df_jan1_aug31_2010.csv', 'rb') as f:\n",
    "    gosat_df = pd.read_csv(f)\n",
    "L_inv_vec = 1 / gosat_df.xco2_unc.values\n",
    "    \n",
    "# tranform the data\n",
    "y_tilde = np.multiply(L_inv_vec, y_obs)\n",
    "\n",
    "CONSTR_DIR = '/Users/mikestanley/Research/Carbon_Flux/optimization/data/sign_corrected'\n",
    "A, b = A_b_generation(\n",
    "    box_constraint_fp=CONSTR_DIR + '/scipy_bnds.pkl',\n",
    "    unity_indices=np.arange(46 * 72), percent_dev=0.5\n",
    ")\n",
    "\n",
    "FUNC_FP = '/Users/mikestanley/Research/Carbon_Flux/optimization'\n",
    "FUNC_FP += '/src_admm/data/carbon_flux/objects/na_june_functional.npy'\n",
    "with open(FUNC_FP, 'rb') as f:\n",
    "    h = np.load(f)"
   ]
  },
  {
   "cell_type": "code",
   "execution_count": 6,
   "id": "5bff2bdb",
   "metadata": {},
   "outputs": [],
   "source": [
    "# psi_alpha\n",
    "with open('./data/carbon_flux/objects/opt_res_cont.pkl', 'rb') as f:\n",
    "    opt_slack = pickle.load(f)\n",
    "    \n",
    "PSI_ALPHA = np.sqrt(stats.chi2.ppf(q=.95, df=1) + opt_slack[1])"
   ]
  },
  {
   "cell_type": "markdown",
   "id": "269a0907",
   "metadata": {},
   "source": [
    "# Plotting functions"
   ]
  },
  {
   "cell_type": "code",
   "execution_count": 7,
   "id": "cf57835e",
   "metadata": {},
   "outputs": [],
   "source": [
    "def global_avg_plot(w_ser, title_str=None, figsize=(8, 5)):\n",
    "    \"\"\"\n",
    "    Globally averaged weights at daily, weekly, and month res\n",
    "    \n",
    "    Parameters\n",
    "    ----------\n",
    "        w_ser (pandas series) : weights indexed by time\n",
    "    \"\"\"\n",
    "    fig, ax = plt.subplots(ncols=1, nrows=1, figsize=figsize)\n",
    "    ts_day = w_ser.resample('D').mean()\n",
    "    ts_week = w_ser.resample('W').mean()\n",
    "    ts_month = w_ser.resample('M').mean()\n",
    "    ts_day.plot(ax=ax, label='Day')\n",
    "    ts_week.plot(ax=ax, label='Week')\n",
    "    ts_month.plot(ax=ax, label='Month')\n",
    "    ax.axhline(0, linestyle='--', color='gray')\n",
    "    ax.legend()\n",
    "    ax.set_title(title_str)\n",
    "    plt.show()\n",
    "    \n",
    "def month_map_plot(df, w_col_str, norm, vmin=None, vmax=None, figsize=(12, 16), save_fp=None):\n",
    "    \"\"\"\n",
    "    Monthly heat maps for the given weights\n",
    "    \n",
    "    Parameters\n",
    "    ----------\n",
    "        df        (pandas dataframe)  : contains columns - 'month', 'lon', 'lat', and w_col_str\n",
    "        w_col_str (str)               : name of w column in df to use\n",
    "        norm      (mcolors.Normalize) : for color scheme\n",
    "    \"\"\"\n",
    "    # w start\n",
    "    fig, ax = plt.subplots(ncols=2, nrows=4, figsize=figsize)\n",
    "    months = ['Jan', 'Feb', 'Mar', 'Apr', 'May', 'Jun', 'Jul', 'Aug']\n",
    "\n",
    "    for i in range(8):\n",
    "        row_idx = i // 2\n",
    "        col_idx = i % 2\n",
    "        month_idxs = df['month'].astype(int) == i + 1\n",
    "        sp_i = ax[row_idx, col_idx].scatter(\n",
    "            df['lon'][month_idxs], df['lat'][month_idxs],\n",
    "            c=df[w_col_str][month_idxs],\n",
    "            norm=norm, vmin=vmin, vmax=vmax,\n",
    "            s=14, cmap='seismic'\n",
    "        )\n",
    "        ax[row_idx, col_idx].set_title(months[i])\n",
    "\n",
    "    plt.colorbar(sp_i,ax=ax[0, 0])\n",
    "    if save_fp:\n",
    "        plt.savefig(save_fp, dpi=300)\n",
    "        plt.close()\n",
    "    else:\n",
    "        plt.show()"
   ]
  },
  {
   "cell_type": "markdown",
   "id": "0256bad9",
   "metadata": {},
   "source": [
    "# Optimization Diagnostics"
   ]
  },
  {
   "cell_type": "code",
   "execution_count": null,
   "id": "0af01f34",
   "metadata": {},
   "outputs": [],
   "source": []
  },
  {
   "cell_type": "code",
   "execution_count": null,
   "id": "9da13bbb",
   "metadata": {},
   "outputs": [],
   "source": []
  },
  {
   "cell_type": "markdown",
   "id": "b315145d",
   "metadata": {},
   "source": [
    "# Starting positions"
   ]
  },
  {
   "cell_type": "code",
   "execution_count": 8,
   "id": "5ddb37cf",
   "metadata": {},
   "outputs": [],
   "source": [
    "# read in the ending points from LEP08\n",
    "with open(BASE_DIR + '/08/final_results.pkl', 'rb') as f:\n",
    "    final_res_08 = pickle.load(f)\n",
    "    \n",
    "# get w\n",
    "w_lep08 = final_res_08['w_opt_output']['vectors'][-1].copy()"
   ]
  },
  {
   "cell_type": "code",
   "execution_count": 14,
   "id": "71a20f54",
   "metadata": {},
   "outputs": [],
   "source": [
    "# save the new points\n",
    "SAVE_BASE_SP = './data/carbon_flux/results/17/intermediate_starts'\n",
    "with open(SAVE_BASE_SP + '/w_start_fromLEP.npy', 'wb') as f:\n",
    "    np.save(file=f, arr=-w_lep08)  # note the negative\n",
    "    \n",
    "# saving c starting position\n",
    "with open(SAVE_BASE_SP + '/c_start_active0.npy', 'wb') as f:\n",
    "    np.save(file=f, arr=np.zeros(b.shape[0]))\n",
    "    \n",
    "# saving lambda starting position\n",
    "with open(SAVE_BASE_SP + '/lambda_start_unity.npy', 'wb') as f:\n",
    "    np.save(file=f, arr=np.ones(A.shape[1]))"
   ]
  },
  {
   "cell_type": "code",
   "execution_count": null,
   "id": "e3f2700c",
   "metadata": {},
   "outputs": [],
   "source": []
  }
 ],
 "metadata": {
  "kernelspec": {
   "display_name": "Python 3 (ipykernel)",
   "language": "python",
   "name": "python3"
  },
  "language_info": {
   "codemirror_mode": {
    "name": "ipython",
    "version": 3
   },
   "file_extension": ".py",
   "mimetype": "text/x-python",
   "name": "python",
   "nbconvert_exporter": "python",
   "pygments_lexer": "ipython3",
   "version": "3.8.18"
  }
 },
 "nbformat": 4,
 "nbformat_minor": 5
}
