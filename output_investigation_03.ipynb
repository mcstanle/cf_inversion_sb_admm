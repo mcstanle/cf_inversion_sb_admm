{
 "cells": [
  {
   "cell_type": "markdown",
   "id": "a12cb887",
   "metadata": {},
   "source": [
    "Processes and sanity checks for run 03, the run for which a better $w$ is found. Code here is largely based on `./output_investigation_02.ipynb` and `./feasible_c.ipynb`."
   ]
  },
  {
   "cell_type": "code",
   "execution_count": 1,
   "id": "bbe0b48d",
   "metadata": {},
   "outputs": [],
   "source": [
    "import matplotlib.pyplot as plt\n",
    "import numpy as np\n",
    "import pandas as pd\n",
    "import pickle\n",
    "from scipy import stats\n",
    "from scipy.optimize import minimize"
   ]
  },
  {
   "cell_type": "code",
   "execution_count": 2,
   "id": "14c01172",
   "metadata": {},
   "outputs": [
    {
     "name": "stderr",
     "output_type": "stream",
     "text": [
      "**PNC:/Users/mikestanley/anaconda3/envs/mc_sampling/lib/python3.8/site-packages/PseudoNetCDF/pncwarn.py:24:UserWarning:\n",
      "  pyproj could not be found, so IO/API coordinates cannot be converted to lat/lon; to fix, install pyproj or basemap (e.g., `pip install pyproj)`\n"
     ]
    }
   ],
   "source": [
    "from generate_opt_objects import A_b_generation"
   ]
  },
  {
   "cell_type": "code",
   "execution_count": 3,
   "id": "786bccfd",
   "metadata": {},
   "outputs": [],
   "source": [
    "# results base directory\n",
    "BASE_DIR = './data/carbon_flux/results'"
   ]
  },
  {
   "cell_type": "code",
   "execution_count": 5,
   "id": "94d83c1a",
   "metadata": {},
   "outputs": [],
   "source": [
    "# paths\n",
    "OBS_FP = '../fixed_optimization_inputs/y_affine_corrected.npy'"
   ]
  },
  {
   "cell_type": "code",
   "execution_count": 6,
   "id": "4330b4c5",
   "metadata": {},
   "outputs": [],
   "source": [
    "# get necessary objects\n",
    "with open(OBS_FP, 'rb') as f:\n",
    "    y_obs = np.load(f)\n",
    "\n",
    "CONSTR_DIR = '/Users/mikestanley/Research/Carbon_Flux/optimization/data/sign_corrected'\n",
    "A, b = A_b_generation(\n",
    "    box_constraint_fp=CONSTR_DIR + '/scipy_bnds.pkl'\n",
    ")\n",
    "\n",
    "FUNC_FP = '/Users/mikestanley/Research/Carbon_Flux/optimization'\n",
    "FUNC_FP += '/src_admm/data/carbon_flux/objects/na_june_functional.npy'\n",
    "with open(FUNC_FP, 'rb') as f:\n",
    "    h = np.load(f)"
   ]
  },
  {
   "cell_type": "code",
   "execution_count": 17,
   "id": "e1aa51e0",
   "metadata": {},
   "outputs": [],
   "source": [
    "# psi_alpha\n",
    "with open('./data/carbon_flux/objects/opt_res_cont.pkl', 'rb') as f:\n",
    "    opt_slack = pickle.load(f)\n",
    "    \n",
    "PSI_ALPHA = np.sqrt(stats.chi2.ppf(q=.95, df=1) + opt_slack[1])"
   ]
  },
  {
   "cell_type": "code",
   "execution_count": 19,
   "id": "8e181dc6",
   "metadata": {},
   "outputs": [],
   "source": [
    "def f_w(w, y=y_obs, psi_alpha=PSI_ALPHA, b=b, c=np.zeros_like(b)):\n",
    "    \"\"\" Lower endpoint functional \"\"\"\n",
    "    return np.dot(w, y) - psi_alpha * np.linalg.norm(w) - np.dot(b, c)"
   ]
  },
  {
   "cell_type": "markdown",
   "id": "c37c48e6",
   "metadata": {},
   "source": [
    "# Computing most feasible $c$ given starting $w$"
   ]
  },
  {
   "cell_type": "code",
   "execution_count": 20,
   "id": "e33777c5",
   "metadata": {},
   "outputs": [],
   "source": [
    "# read in the starting w\n",
    "with open('./data/carbon_flux/objects/w_vec_max.npy', 'rb') as f:\n",
    "    w_start = np.load(f)"
   ]
  },
  {
   "cell_type": "code",
   "execution_count": 8,
   "id": "59a12c86",
   "metadata": {},
   "outputs": [
    {
     "name": "stdout",
     "output_type": "stream",
     "text": [
      "(26496,)\n"
     ]
    }
   ],
   "source": [
    "# read in computed KTw\n",
    "with open('./data/carbon_flux/objects/KTw_for_w_max.npy', 'rb') as f:\n",
    "    KTw = np.load(f)\n",
    "    \n",
    "print(KTw.shape)"
   ]
  },
  {
   "cell_type": "code",
   "execution_count": 11,
   "id": "3dc88bc2",
   "metadata": {},
   "outputs": [],
   "source": [
    "def obj_func(c, h=h, A=A, KTw=KTw):\n",
    "    return np.dot(h + A.T @ c - KTw, h + A.T @ c - KTw)\n",
    "\n",
    "def obj_jac(c, h=h, A=A, KTw=KTw):\n",
    "    return 2 * A @ (h + A.T @ c - KTw)"
   ]
  },
  {
   "cell_type": "code",
   "execution_count": 16,
   "id": "3e1524f3",
   "metadata": {},
   "outputs": [
    {
     "name": "stdout",
     "output_type": "stream",
     "text": [
      "RUNNING THE L-BFGS-B CODE\n",
      "\n",
      "           * * *\n",
      "\n",
      "Machine precision = 2.220D-16\n",
      " N =        11120     M =           10\n",
      "\n",
      "At X0     11120 variables are exactly at the bounds\n",
      "\n",
      "At iterate    0    f=  4.36046D+06    |proj g|=  4.06870D+02\n",
      "\n",
      "At iterate    1    f=  3.05261D+06    |proj g|=  3.40428D+02\n",
      "\n",
      "At iterate    2    f=  6.84313D+00    |proj g|=  6.82121D-13\n",
      "\n",
      "           * * *\n",
      "\n",
      "Tit   = total number of iterations\n",
      "Tnf   = total number of function evaluations\n",
      "Tnint = total number of segments explored during Cauchy searches\n",
      "Skip  = number of BFGS updates skipped\n",
      "Nact  = number of active bounds at final generalized Cauchy point\n",
      "Projg = norm of the final projected gradient\n",
      "F     = final function value\n",
      "\n",
      "           * * *\n",
      "\n",
      "   N    Tit     Tnf  Tnint  Skip  Nact     Projg        F\n",
      "11120      2      7      2     0   139   6.821D-13   6.843D+00\n",
      "  F =   6.8431277102822898     \n",
      "\n",
      "CONVERGENCE: NORM_OF_PROJECTED_GRADIENT_<=_PGTOL            \n"
     ]
    }
   ],
   "source": [
    "# perform the optimization\n",
    "c_opt_res_0_nn = minimize(\n",
    "    fun=obj_func, x0=np.zeros_like(b), method='L-BFGS-B',\n",
    "    jac=obj_jac, bounds=[(0, None)] * 11120,\n",
    "    options={'iprint': 1}\n",
    ")"
   ]
  },
  {
   "cell_type": "code",
   "execution_count": 21,
   "id": "98c114a3",
   "metadata": {},
   "outputs": [
    {
     "data": {
      "text/plain": [
       "-39571756.7549447"
      ]
     },
     "execution_count": 21,
     "metadata": {},
     "output_type": "execute_result"
    }
   ],
   "source": [
    "# what is the new objective function value with this c?\n",
    "f_w(w=w_start, c=c_opt_res_0_nn['x'])"
   ]
  },
  {
   "cell_type": "code",
   "execution_count": null,
   "id": "da82e3a8",
   "metadata": {},
   "outputs": [],
   "source": []
  }
 ],
 "metadata": {
  "kernelspec": {
   "display_name": "Python 3 (ipykernel)",
   "language": "python",
   "name": "python3"
  },
  "language_info": {
   "codemirror_mode": {
    "name": "ipython",
    "version": 3
   },
   "file_extension": ".py",
   "mimetype": "text/x-python",
   "name": "python",
   "nbconvert_exporter": "python",
   "pygments_lexer": "ipython3",
   "version": "3.9.11"
  }
 },
 "nbformat": 4,
 "nbformat_minor": 5
}
