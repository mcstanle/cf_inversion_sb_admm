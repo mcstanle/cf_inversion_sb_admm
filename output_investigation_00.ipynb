{
 "cells": [
  {
   "cell_type": "markdown",
   "id": "fd69ee2d",
   "metadata": {},
   "source": [
    "This notebook is primary geared towards looking at the algorithm output.\n",
    "\n",
    "In particular, since the compute job was stopped due to Cheyenne maintenance, I save intermediate $w$, $c$, and $\\lambda$ vectors to `./data/results/00/...`."
   ]
  },
  {
   "cell_type": "code",
   "execution_count": 1,
   "id": "cc02f45f",
   "metadata": {},
   "outputs": [],
   "source": [
    "import matplotlib.pyplot as plt\n",
    "import numpy as np\n",
    "import pandas as pd\n",
    "import pickle\n",
    "from scipy import stats\n",
    "from scipy.optimize import minimize"
   ]
  },
  {
   "cell_type": "code",
   "execution_count": 2,
   "id": "c45cc7a6",
   "metadata": {},
   "outputs": [],
   "source": [
    "from generate_opt_objects import A_b_generation"
   ]
  },
  {
   "cell_type": "code",
   "execution_count": 3,
   "id": "5f2d9729",
   "metadata": {},
   "outputs": [],
   "source": [
    "from admm_optimizer import c_update_obj, c_update_obj_grad, endpoint_objective"
   ]
  },
  {
   "cell_type": "code",
   "execution_count": 4,
   "id": "e7c42cb0",
   "metadata": {},
   "outputs": [],
   "source": [
    "# results base directory\n",
    "BASE_DIR = './data/carbon_flux/results'"
   ]
  },
  {
   "cell_type": "markdown",
   "id": "fcdc4133",
   "metadata": {},
   "source": [
    "# Intermediate output"
   ]
  },
  {
   "cell_type": "code",
   "execution_count": 5,
   "id": "9a945aea",
   "metadata": {},
   "outputs": [
    {
     "name": "stdout",
     "output_type": "stream",
     "text": [
      "{'objective_evals': [-27440.898721911864], 'w_opt_vecs': array([[-0.20471723,  0.47914934, -0.51938276, ...,  0.96201749,\n",
      "         1.57496643,  0.72282295],\n",
      "       [ 0.        ,  0.        ,  0.        , ...,  0.        ,\n",
      "         0.        ,  0.        ],\n",
      "       [ 0.        ,  0.        ,  0.        , ...,  0.        ,\n",
      "         0.        ,  0.        ],\n",
      "       ...,\n",
      "       [ 0.        ,  0.        ,  0.        , ...,  0.        ,\n",
      "         0.        ,  0.        ],\n",
      "       [ 0.        ,  0.        ,  0.        , ...,  0.        ,\n",
      "         0.        ,  0.        ],\n",
      "       [ 0.        ,  0.        ,  0.        , ...,  0.        ,\n",
      "         0.        ,  0.        ]]), 'c_opt_vecs': array([[0., 0., 0., ..., 0., 0., 0.],\n",
      "       [0., 0., 0., ..., 0., 0., 0.],\n",
      "       [0., 0., 0., ..., 0., 0., 0.],\n",
      "       ...,\n",
      "       [0., 0., 0., ..., 0., 0., 0.],\n",
      "       [0., 0., 0., ..., 0., 0., 0.],\n",
      "       [0., 0., 0., ..., 0., 0., 0.]]), 'lambda_opt_vecs': array([[0., 0., 0., ..., 0., 0., 0.],\n",
      "       [0., 0., 0., ..., 0., 0., 0.],\n",
      "       [0., 0., 0., ..., 0., 0., 0.],\n",
      "       ...,\n",
      "       [0., 0., 0., ..., 0., 0., 0.],\n",
      "       [0., 0., 0., ..., 0., 0., 0.],\n",
      "       [0., 0., 0., ..., 0., 0., 0.]]), 'KTw_vecs': array([[0., 0., 0., ..., 0., 0., 0.],\n",
      "       [0., 0., 0., ..., 0., 0., 0.],\n",
      "       [0., 0., 0., ..., 0., 0., 0.],\n",
      "       ...,\n",
      "       [0., 0., 0., ..., 0., 0., 0.],\n",
      "       [0., 0., 0., ..., 0., 0., 0.],\n",
      "       [0., 0., 0., ..., 0., 0., 0.]])}\n"
     ]
    }
   ],
   "source": [
    "with open(BASE_DIR + '/00/opt_output_00.pkl', 'rb') as f:\n",
    "    int_out_00 = pickle.load(f)\n",
    "print(int_out_00)"
   ]
  },
  {
   "cell_type": "code",
   "execution_count": 6,
   "id": "ddebac0d",
   "metadata": {},
   "outputs": [
    {
     "data": {
      "text/plain": [
       "(array([0, 0, 0, ..., 0, 0, 0]),\n",
       " array([   18,    19,    31, ..., 11060, 11061, 11062]))"
      ]
     },
     "execution_count": 6,
     "metadata": {},
     "output_type": "execute_result"
    }
   ],
   "source": [
    "np.where(int_out_00['c_opt_vecs'] != 0)"
   ]
  },
  {
   "cell_type": "markdown",
   "id": "43d553bd",
   "metadata": {},
   "source": [
    "# Other necessary output"
   ]
  },
  {
   "cell_type": "markdown",
   "id": "dcd0af02",
   "metadata": {},
   "source": [
    "1. $y$ -- affine corrected and normalized\n",
    "2. $\\psi_\\alpha$\n",
    "3. gosat observations for cholesky factor"
   ]
  },
  {
   "cell_type": "code",
   "execution_count": 7,
   "id": "092557d6",
   "metadata": {},
   "outputs": [],
   "source": [
    "# read in gosat observation and make the cholesky factor vector\n",
    "gosat_df = pd.read_csv('./data/carbon_flux/objects/gosat_df_jan1_aug31_2010.csv')\n",
    "L_inv_vec = 1 / gosat_df.xco2_unc.values"
   ]
  },
  {
   "cell_type": "code",
   "execution_count": 8,
   "id": "5057db6c",
   "metadata": {},
   "outputs": [],
   "source": [
    "# affine corrected and normalized observation\n",
    "with open('./data/carbon_flux/objects/y_affine_corrected.npy', 'rb') as f:\n",
    "    y_obs = np.load(f)\n",
    "y_tilde = np.multiply(L_inv_vec, y_obs)"
   ]
  },
  {
   "cell_type": "code",
   "execution_count": 9,
   "id": "7ffdf76c",
   "metadata": {},
   "outputs": [],
   "source": [
    "# psi alpha value\n",
    "with open('./data/carbon_flux/objects/opt_res_cont.pkl', 'rb') as f:\n",
    "    opt_slack = pickle.load(f)\n",
    "PSI2 = stats.chi2.ppf(q=.95, df=1) + opt_slack[1]\n",
    "psi_alpha = np.sqrt(PSI2)"
   ]
  },
  {
   "cell_type": "markdown",
   "id": "1428a6eb",
   "metadata": {},
   "source": [
    "# Feasibility conditions"
   ]
  },
  {
   "cell_type": "markdown",
   "id": "a5c52286",
   "metadata": {},
   "source": [
    "\\begin{equation}\n",
    "\\lVert h + A^T c - K^T w \\rVert_2^2\n",
    "\\end{equation}"
   ]
  },
  {
   "cell_type": "code",
   "execution_count": 10,
   "id": "ec93e205",
   "metadata": {},
   "outputs": [
    {
     "name": "stdout",
     "output_type": "stream",
     "text": [
      "['objective_evals', 'w_opt_vecs', 'c_opt_vecs', 'lambda_opt_vecs', 'KTw_vecs']\n"
     ]
    }
   ],
   "source": [
    "# import results dictionary\n",
    "with open(BASE_DIR + '/00/opt_output_00.pkl', 'rb') as f:\n",
    "    res_dict = pickle.load(f)\n",
    "    \n",
    "print(list(res_dict.keys()))"
   ]
  },
  {
   "cell_type": "code",
   "execution_count": 11,
   "id": "32a13e4a",
   "metadata": {},
   "outputs": [
    {
     "name": "stdout",
     "output_type": "stream",
     "text": [
      "Dim of A: (11120, 26496)\n",
      "Dim of b: (11120,)\n"
     ]
    }
   ],
   "source": [
    "# import h\n",
    "with open('./data/carbon_flux/objects/na_june_functional.npy', 'rb') as f:\n",
    "    h = np.load(f)\n",
    "\n",
    "# import A\n",
    "A, b = A_b_generation(\n",
    "    box_constraint_fp='./data/carbon_flux/objects/scipy_bnds.pkl'\n",
    ")\n",
    "\n",
    "print(f'Dim of A: {A.shape}')\n",
    "print(f'Dim of b: {b.shape}')"
   ]
  },
  {
   "cell_type": "code",
   "execution_count": 12,
   "id": "61b32d36",
   "metadata": {},
   "outputs": [
    {
     "name": "stdout",
     "output_type": "stream",
     "text": [
      "Number of iterations: 10\n"
     ]
    }
   ],
   "source": [
    "# extract plotting objects from results_dict\n",
    "KTw_vecs = res_dict['KTw_vecs'].copy()\n",
    "c_vecs = res_dict['c_opt_vecs'].copy()\n",
    "\n",
    "# look at the norm of the constraint term\n",
    "num_iters = KTw_vecs.shape[0]\n",
    "print(f'Number of iterations: {num_iters}')\n",
    "\n",
    "constr_mat = np.array([\n",
    "    h + A.T @ c_vecs[i, :] - KTw_vecs[i, :]\n",
    "    for i in range(num_iters)\n",
    "])\n",
    "feasibility = np.sqrt(np.diagonal(constr_mat @ constr_mat.T))"
   ]
  },
  {
   "cell_type": "code",
   "execution_count": 13,
   "id": "37b2f1af",
   "metadata": {},
   "outputs": [
    {
     "data": {
      "text/plain": [
       "array([25.97606915,  0.17412791,  0.17412791,  0.17412791,  0.17412791,\n",
       "        0.17412791,  0.17412791,  0.17412791,  0.17412791,  0.17412791])"
      ]
     },
     "execution_count": 13,
     "metadata": {},
     "output_type": "execute_result"
    }
   ],
   "source": [
    "feasibility"
   ]
  },
  {
   "cell_type": "markdown",
   "id": "dd666527",
   "metadata": {},
   "source": [
    "# $w$ optimization"
   ]
  },
  {
   "cell_type": "markdown",
   "id": "7d0376a7",
   "metadata": {},
   "source": [
    "By reconstructing output, we can:\n",
    "1. compute feasibility conditions\n",
    "2. look at the actual interval endpoint values"
   ]
  },
  {
   "cell_type": "markdown",
   "id": "37420ff1",
   "metadata": {},
   "source": [
    "### Obtaining $K^Tw$ vectors"
   ]
  },
  {
   "cell_type": "code",
   "execution_count": 42,
   "id": "c0538366",
   "metadata": {},
   "outputs": [],
   "source": [
    "with open(BASE_DIR + '/00/h_table_lep.pkl', 'rb') as f:\n",
    "    KTw_dict_01 = pickle.load(f)"
   ]
  },
  {
   "cell_type": "code",
   "execution_count": 43,
   "id": "57fb0516",
   "metadata": {},
   "outputs": [],
   "source": [
    "# pull out all the w and K^Tw vectors\n",
    "hash_keys = list(KTw_dict_01.keys())[1:]\n",
    "NUM_VECS = len(list(KTw_dict_01.keys())) - 1\n",
    "DIM_W = KTw_dict_01[hash_keys[0]]['w'].shape[0]\n",
    "DIM_KTW = KTw_dict_01[hash_keys[0]]['KTw'].shape[0]\n",
    "w_01 = np.zeros(shape=(NUM_VECS, DIM_W))\n",
    "KTw_01 = np.zeros(shape=(NUM_VECS, DIM_KTW))\n",
    "\n",
    "for i, key_i in enumerate(hash_keys):\n",
    "    w_01[i, :] = KTw_dict_01[key_i]['w']\n",
    "    KTw_01[i, :] = KTw_dict_01[key_i]['KTw']"
   ]
  },
  {
   "cell_type": "code",
   "execution_count": 16,
   "id": "87bad62b",
   "metadata": {},
   "outputs": [
    {
     "name": "stdout",
     "output_type": "stream",
     "text": [
      "(282670,)\n",
      "(10, 28267)\n"
     ]
    }
   ],
   "source": [
    "# read in callback\n",
    "with open(BASE_DIR + '/00/callback_w_opt_01.txt', 'r') as f:\n",
    "    w_opt_1_long = np.loadtxt(f)\n",
    "w_callback_vecs = np.reshape(w_opt_1_long, newshape=(10, DIM_W), order='C')\n",
    "print(w_opt_1_long.shape)\n",
    "print(w_callback_vecs.shape)"
   ]
  },
  {
   "cell_type": "code",
   "execution_count": 17,
   "id": "e7d3619a",
   "metadata": {
    "scrolled": true
   },
   "outputs": [],
   "source": [
    "# save the indices corresponding the KTw\n",
    "KTw_idxs = np.zeros(10)\n",
    "for i in range(10):\n",
    "    KTw_idxs[i] = np.linalg.norm(w_callback_vecs[i, :] - w_01, axis=1).argmin()"
   ]
  },
  {
   "cell_type": "code",
   "execution_count": 18,
   "id": "d17b744b",
   "metadata": {},
   "outputs": [],
   "source": [
    "# isolate the actual KTw evaluations corresponding to each w\n",
    "KTw_evals = np.zeros(shape=(10, DIM_KTW))\n",
    "for i in range(10):\n",
    "    KTw_evals[i, :] = KTw_01[int(KTw_idxs[i]), :]"
   ]
  },
  {
   "cell_type": "markdown",
   "id": "9a686ec9",
   "metadata": {},
   "source": [
    "### Looking at the optimizer updates for the second ADMM iteration"
   ]
  },
  {
   "cell_type": "code",
   "execution_count": 14,
   "id": "c7cb4131",
   "metadata": {},
   "outputs": [],
   "source": [
    "# read in the raw stdout file\n",
    "with open(BASE_DIR + '/00/stdout.txt', 'r') as f:\n",
    "    stdout_raw = f.readlines()"
   ]
  },
  {
   "cell_type": "code",
   "execution_count": 16,
   "id": "ee3d602f",
   "metadata": {},
   "outputs": [],
   "source": [
    "# read in the restart raw stdout file\n",
    "with open(BASE_DIR + '/00/stdout_restart.txt', 'r') as f:\n",
    "    stdout_restart_raw = f.readlines()"
   ]
  },
  {
   "cell_type": "code",
   "execution_count": 18,
   "id": "e2bb2e21",
   "metadata": {},
   "outputs": [
    {
     "name": "stdout",
     "output_type": "stream",
     "text": [
      "12\n",
      "10\n"
     ]
    }
   ],
   "source": [
    "# isolate the trajectories from the first and second w optimizations\n",
    "traj_w_1 = [float(line[23:34].replace('D', 'e')) for line in stdout_raw if 'At iterate' in line][:12]\n",
    "traj_w_2 = [float(line[23:34].replace('D', 'e')) for line in stdout_raw if 'At iterate' in line][-10:]\n",
    "print(len(traj_w_1))\n",
    "print(len(traj_w_2))"
   ]
  },
  {
   "cell_type": "code",
   "execution_count": 21,
   "id": "37b6bbd1",
   "metadata": {},
   "outputs": [],
   "source": [
    "# isolate the trajectories from the third and \n",
    "traj_w_3 = [float(line[23:34].replace('D', 'e')) for line in stdout_restart_raw if 'At iterate' in line][:9]\n",
    "traj_w_4 = [float(line[23:34].replace('D', 'e')) for line in stdout_restart_raw if 'At iterate' in line][9:]"
   ]
  },
  {
   "cell_type": "code",
   "execution_count": 23,
   "id": "937ce05a",
   "metadata": {},
   "outputs": [
    {
     "data": {
      "image/png": "[encoded data removed]",
      "text/plain": [
       "<Figure size 864x576 with 4 Axes>"
      ]
     },
     "metadata": {
      "needs_background": "light"
     },
     "output_type": "display_data"
    }
   ],
   "source": [
    "fig, ax = plt.subplots(ncols=2, nrows=2, figsize=(12, 8), sharey=True, sharex=True)\n",
    "ax[0, 0].plot(np.arange(1, 13), traj_w_1)\n",
    "ax[0, 1].plot(np.arange(1, 11), traj_w_2)\n",
    "ax[1, 0].plot(np.arange(1, len(traj_w_3) + 1), traj_w_3)\n",
    "ax[1, 1].plot(np.arange(1, len(traj_w_4) + 1), traj_w_4)\n",
    "\n",
    "ax[0, 0].set_title('ADMM Step 1')\n",
    "ax[0, 1].set_title('ADMM Step 2')\n",
    "ax[1, 0].set_title('ADMM Step 3')\n",
    "ax[1, 1].set_title('ADMM Step 4')\n",
    "\n",
    "plt.show()"
   ]
  },
  {
   "cell_type": "markdown",
   "id": "1af02510",
   "metadata": {},
   "source": [
    "#### Save the last $w$ vectors"
   ]
  },
  {
   "cell_type": "code",
   "execution_count": 26,
   "id": "6312d097",
   "metadata": {},
   "outputs": [],
   "source": [
    "# save the last w vector\n",
    "with open(BASE_DIR + '/00/cheyenne_stop_w_vec.npy', 'wb') as f:\n",
    "    np.save(file=f, arr=w_callback_vecs[-1, :])"
   ]
  },
  {
   "cell_type": "markdown",
   "id": "a2c7dfd4",
   "metadata": {},
   "source": [
    "### Perform the $c$ and $\\lambda$ updates"
   ]
  },
  {
   "cell_type": "code",
   "execution_count": 27,
   "id": "b475dc19",
   "metadata": {},
   "outputs": [
    {
     "name": "stdout",
     "output_type": "stream",
     "text": [
      "RUNNING THE L-BFGS-B CODE\n",
      "\n",
      "           * * *\n",
      "\n",
      "Machine precision = 2.220D-16\n",
      " N =        11120     M =           10\n",
      "\n",
      "At X0      8342 variables are exactly at the bounds\n",
      "\n",
      "At iterate    0    f= -2.05631D+05    |proj g|=  1.58207D+03\n",
      "\n",
      "At iterate    1    f= -2.65567D+05    |proj g|=  1.03604D+03\n",
      "\n",
      "At iterate    2    f= -3.11799D+05    |proj g|=  2.50111D-12\n",
      "\n",
      "           * * *\n",
      "\n",
      "Tit   = total number of iterations\n",
      "Tnf   = total number of function evaluations\n",
      "Tnint = total number of segments explored during Cauchy searches\n",
      "Skip  = number of BFGS updates skipped\n",
      "Nact  = number of active bounds at final generalized Cauchy point\n",
      "Projg = norm of the final projected gradient\n",
      "F     = final function value\n",
      "\n",
      "           * * *\n",
      "\n",
      "   N    Tit     Tnf  Tnint  Skip  Nact     Projg        F\n",
      "11120      2      4    146     0  7181   2.501D-12  -3.118D+05\n",
      "  F =  -311798.75779027055     \n",
      "\n",
      "CONVERGENCE: NORM_OF_PROJECTED_GRADIENT_<=_PGTOL            \n"
     ]
    }
   ],
   "source": [
    "# c-update\n",
    "c0 = c_vecs[0, :].copy()\n",
    "KTw_it2 = KTw_evals[-1, :]  # i.e., the adjoint evaluated at the ending w\n",
    "lambda_it1 = res_dict['lambda_opt_vecs'][0, :]\n",
    "d = c0.shape[0]\n",
    "\n",
    "c_opt_res = minimize(\n",
    "    fun=c_update_obj,\n",
    "    x0=c_vecs[0, :],\n",
    "    jac=c_update_obj_grad,\n",
    "    args=(\n",
    "        KTw_it2, lambda_it1, 1e3, True, A, b, h\n",
    "    ),\n",
    "    bounds=[(0, np.inf)] * d,\n",
    "    method='L-BFGS-B',\n",
    "    options={\n",
    "        'maxls': 50,\n",
    "        'disp': True\n",
    "    }\n",
    ")"
   ]
  },
  {
   "cell_type": "code",
   "execution_count": 30,
   "id": "62480cd5",
   "metadata": {},
   "outputs": [],
   "source": [
    "# save the c vector from above\n",
    "with open(BASE_DIR + '/00/cheyenne_stop_c_vec.npy', 'wb') as f:\n",
    "    np.save(file=f, arr=c_opt_res['x'])"
   ]
  },
  {
   "cell_type": "code",
   "execution_count": 31,
   "id": "7221c570",
   "metadata": {},
   "outputs": [],
   "source": [
    "# update lambda\n",
    "lambda_it2 = lambda_it1 + 1e3 * (h + A.T @ c_opt_res['x'] - KTw_it2)"
   ]
  },
  {
   "cell_type": "code",
   "execution_count": 36,
   "id": "e2dd845b",
   "metadata": {},
   "outputs": [],
   "source": [
    "# save the lambda vector from above\n",
    "with open(BASE_DIR + '/00/cheyenne_stop_lambda_vec.npy', 'wb') as f:\n",
    "    np.save(file=f, arr=lambda_it2)"
   ]
  },
  {
   "cell_type": "code",
   "execution_count": 32,
   "id": "ae85c7ad",
   "metadata": {},
   "outputs": [
    {
     "data": {
      "text/plain": [
       "-34288.713763677515"
      ]
     },
     "execution_count": 32,
     "metadata": {},
     "output_type": "execute_result"
    }
   ],
   "source": [
    "# compute the new endpoint\n",
    "endpoint_objective(\n",
    "    w=w_callback_vecs[-1, :],\n",
    "    c=c_opt_res['x'],\n",
    "    b=b,\n",
    "    y=y_tilde,\n",
    "    lep=True,\n",
    "    psi_alpha=psi_alpha\n",
    ")"
   ]
  },
  {
   "cell_type": "code",
   "execution_count": 33,
   "id": "5eed7b1f",
   "metadata": {},
   "outputs": [
    {
     "data": {
      "text/plain": [
       "13.014071244823715"
      ]
     },
     "execution_count": 33,
     "metadata": {},
     "output_type": "execute_result"
    }
   ],
   "source": [
    "# feasibility condition\n",
    "np.linalg.norm(h + A.T @ c_opt_res['x'] - KTw_it2)"
   ]
  },
  {
   "cell_type": "markdown",
   "id": "07679d42",
   "metadata": {},
   "source": [
    "#### End of third step"
   ]
  },
  {
   "cell_type": "code",
   "execution_count": 24,
   "id": "405b1b74",
   "metadata": {},
   "outputs": [
    {
     "name": "stdout",
     "output_type": "stream",
     "text": [
      "{'objective_evals': [-45895.62671096889], 'w_opt_vecs': array([[ 0.        ,  0.        ,  0.        , ...,  0.        ,\n",
      "         0.        ,  0.        ],\n",
      "       [ 0.        ,  0.        ,  0.        , ...,  0.        ,\n",
      "         0.        ,  0.        ],\n",
      "       [-0.20477449,  0.48037858, -0.51898193, ...,  0.84503002,\n",
      "         1.44300618,  0.61512914],\n",
      "       ...,\n",
      "       [ 0.        ,  0.        ,  0.        , ...,  0.        ,\n",
      "         0.        ,  0.        ],\n",
      "       [ 0.        ,  0.        ,  0.        , ...,  0.        ,\n",
      "         0.        ,  0.        ],\n",
      "       [ 0.        ,  0.        ,  0.        , ...,  0.        ,\n",
      "         0.        ,  0.        ]]), 'c_opt_vecs': array([[0., 0., 0., ..., 0., 0., 0.],\n",
      "       [0., 0., 0., ..., 0., 0., 0.],\n",
      "       [0., 0., 0., ..., 0., 0., 0.],\n",
      "       ...,\n",
      "       [0., 0., 0., ..., 0., 0., 0.],\n",
      "       [0., 0., 0., ..., 0., 0., 0.],\n",
      "       [0., 0., 0., ..., 0., 0., 0.]]), 'lambda_opt_vecs': array([[0., 0., 0., ..., 0., 0., 0.],\n",
      "       [0., 0., 0., ..., 0., 0., 0.],\n",
      "       [0., 0., 0., ..., 0., 0., 0.],\n",
      "       ...,\n",
      "       [0., 0., 0., ..., 0., 0., 0.],\n",
      "       [0., 0., 0., ..., 0., 0., 0.],\n",
      "       [0., 0., 0., ..., 0., 0., 0.]]), 'KTw_vecs': array([[0., 0., 0., ..., 0., 0., 0.],\n",
      "       [0., 0., 0., ..., 0., 0., 0.],\n",
      "       [0., 0., 0., ..., 0., 0., 0.],\n",
      "       ...,\n",
      "       [0., 0., 0., ..., 0., 0., 0.],\n",
      "       [0., 0., 0., ..., 0., 0., 0.],\n",
      "       [0., 0., 0., ..., 0., 0., 0.]])}\n"
     ]
    }
   ],
   "source": [
    "with open(BASE_DIR + '/00/opt_output_02.pkl', 'rb') as f:\n",
    "    int_out_02 = pickle.load(f)\n",
    "print(int_out_02)"
   ]
  },
  {
   "cell_type": "code",
   "execution_count": 39,
   "id": "4f710b4c",
   "metadata": {},
   "outputs": [
    {
     "data": {
      "text/plain": [
       "11.884283721377777"
      ]
     },
     "execution_count": 39,
     "metadata": {},
     "output_type": "execute_result"
    }
   ],
   "source": [
    "# feasibility condition\n",
    "np.linalg.norm(h + A.T @ int_out_02['c_opt_vecs'][2, :] - int_out_02['KTw_vecs'][2, :])"
   ]
  },
  {
   "cell_type": "markdown",
   "id": "ebefb7e8",
   "metadata": {},
   "source": [
    "In all, we have the following feasibility values\n",
    "1. 25.9760691\n",
    "2. 13.014071244823715\n",
    "3. 11.884283721377777"
   ]
  },
  {
   "cell_type": "markdown",
   "id": "e6d5cd54",
   "metadata": {},
   "source": [
    "#### Feasibility condition where step 4 stopped"
   ]
  },
  {
   "cell_type": "code",
   "execution_count": 40,
   "id": "10ccc670",
   "metadata": {},
   "outputs": [],
   "source": [
    "# read in the hash table\n",
    "with open(BASE_DIR + '/00/h_table_lep_restart.pkl', 'rb') as f:\n",
    "    KTw_dict_restart = pickle.load(f)"
   ]
  },
  {
   "cell_type": "code",
   "execution_count": 45,
   "id": "6e82dd84",
   "metadata": {},
   "outputs": [
    {
     "name": "stdout",
     "output_type": "stream",
     "text": [
      "12\n"
     ]
    }
   ],
   "source": [
    "# pull out all the w and K^Tw vectors\n",
    "hash_keys = list(KTw_dict_restart.keys())[1:]\n",
    "NUM_VECS = len(list(KTw_dict_restart.keys())) - 1\n",
    "DIM_W = KTw_dict_restart[hash_keys[0]]['w'].shape[0]\n",
    "DIM_KTW = KTw_dict_restart[hash_keys[0]]['KTw'].shape[0]\n",
    "w_01 = np.zeros(shape=(NUM_VECS, DIM_W))\n",
    "KTw_01 = np.zeros(shape=(NUM_VECS, DIM_KTW))\n",
    "\n",
    "for i, key_i in enumerate(hash_keys):\n",
    "    w_01[i, :] = KTw_dict_restart[key_i]['w']\n",
    "    KTw_01[i, :] = KTw_dict_restart[key_i]['KTw']\n",
    "    \n",
    "print(NUM_VECS)"
   ]
  },
  {
   "cell_type": "code",
   "execution_count": 46,
   "id": "f1b84b7d",
   "metadata": {},
   "outputs": [
    {
     "name": "stdout",
     "output_type": "stream",
     "text": [
      "(28267,)\n",
      "(1, 28267)\n"
     ]
    }
   ],
   "source": [
    "# read in callback\n",
    "with open(BASE_DIR + '/00/callback_w_opt_03.txt', 'r') as f:\n",
    "    w_opt_3_long = np.loadtxt(f)\n",
    "w_3_callback_vecs = np.reshape(w_opt_3_long, newshape=(1, DIM_W), order='C')\n",
    "print(w_opt_3_long.shape)\n",
    "print(w_3_callback_vecs.shape)"
   ]
  },
  {
   "cell_type": "code",
   "execution_count": 52,
   "id": "55413f81",
   "metadata": {},
   "outputs": [
    {
     "name": "stdout",
     "output_type": "stream",
     "text": [
      "[1.]\n"
     ]
    }
   ],
   "source": [
    "# save the indices corresponding the KTw\n",
    "KTw_idxs = np.zeros(1)\n",
    "for i in range(1):\n",
    "    KTw_idxs[i] = np.linalg.norm(w_3_callback_vecs[i, :] - w_01, axis=1).argmin()\n",
    "print(KTw_idxs)"
   ]
  },
  {
   "cell_type": "code",
   "execution_count": 59,
   "id": "dfba4026",
   "metadata": {},
   "outputs": [
    {
     "name": "stdout",
     "output_type": "stream",
     "text": [
      "RUNNING THE L-BFGS-B CODE\n",
      "\n",
      "           * * *\n",
      "\n",
      "Machine precision = 2.220D-16\n",
      " N =        11120     M =           10\n",
      "\n",
      "At X0      8342 variables are exactly at the bounds\n",
      "\n",
      "At iterate    0    f= -3.96092D+05    |proj g|=  3.58662D+03\n",
      "\n",
      "At iterate    1    f= -5.87860D+05    |proj g|=  3.14766D+03\n",
      "\n",
      "At iterate    2    f= -1.23089D+06    |proj g|=  3.63798D-12\n",
      "\n",
      "           * * *\n",
      "\n",
      "Tit   = total number of iterations\n",
      "Tnf   = total number of function evaluations\n",
      "Tnint = total number of segments explored during Cauchy searches\n",
      "Skip  = number of BFGS updates skipped\n",
      "Nact  = number of active bounds at final generalized Cauchy point\n",
      "Projg = norm of the final projected gradient\n",
      "F     = final function value\n",
      "\n",
      "           * * *\n",
      "\n",
      "   N    Tit     Tnf  Tnint  Skip  Nact     Projg        F\n",
      "11120      2      4     28     0  5306   3.638D-12  -1.231D+06\n",
      "  F =  -1230889.5697182540     \n",
      "\n",
      "CONVERGENCE: NORM_OF_PROJECTED_GRADIENT_<=_PGTOL            \n"
     ]
    }
   ],
   "source": [
    "# c-update\n",
    "c0 = c_vecs[0, :].copy()\n",
    "KTw_it3 = KTw_01[int(KTw_idxs[0]), :]  # i.e., the adjoint evaluated at the ending w\n",
    "lambda_it2 = int_out_02['lambda_opt_vecs'][2, :]\n",
    "d = c0.shape[0]\n",
    "\n",
    "c_opt_res = minimize(\n",
    "    fun=c_update_obj,\n",
    "    x0=c_vecs[0, :],\n",
    "    jac=c_update_obj_grad,\n",
    "    args=(\n",
    "        KTw_it3, lambda_it2, 1e3, True, A, b, h\n",
    "    ),\n",
    "    bounds=[(0, np.inf)] * d,\n",
    "    method='L-BFGS-B',\n",
    "    options={\n",
    "        'maxls': 50,\n",
    "        'disp': True\n",
    "    }\n",
    ")"
   ]
  },
  {
   "cell_type": "code",
   "execution_count": 60,
   "id": "a7ef51f9",
   "metadata": {},
   "outputs": [
    {
     "data": {
      "text/plain": [
       "9.509178986058279"
      ]
     },
     "execution_count": 60,
     "metadata": {},
     "output_type": "execute_result"
    }
   ],
   "source": [
    "# feasibility condition\n",
    "np.linalg.norm(h + A.T @ c_opt_res['x'] - KTw_it3)"
   ]
  },
  {
   "cell_type": "code",
   "execution_count": null,
   "id": "d08963d8",
   "metadata": {},
   "outputs": [],
   "source": []
  }
 ],
 "metadata": {
  "kernelspec": {
   "display_name": "Python 3 (ipykernel)",
   "language": "python",
   "name": "python3"
  },
  "language_info": {
   "codemirror_mode": {
    "name": "ipython",
    "version": 3
   },
   "file_extension": ".py",
   "mimetype": "text/x-python",
   "name": "python",
   "nbconvert_exporter": "python",
   "pygments_lexer": "ipython3",
   "version": "3.9.11"
  }
 },
 "nbformat": 4,
 "nbformat_minor": 5
}
