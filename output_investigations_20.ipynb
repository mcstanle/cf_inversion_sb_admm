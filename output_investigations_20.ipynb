{
 "cells": [
  {
   "cell_type": "markdown",
   "id": "65a0b132",
   "metadata": {},
   "source": [
    "For run 20.\n",
    "\n",
    "1. Optimization results\n",
    "2. Starting positions from run 19"
   ]
  },
  {
   "cell_type": "code",
   "execution_count": 1,
   "id": "45e507c3",
   "metadata": {},
   "outputs": [],
   "source": [
    "import matplotlib\n",
    "import matplotlib.pyplot as plt\n",
    "import matplotlib.colors as mcolors\n",
    "import numpy as np\n",
    "import pandas as pd\n",
    "import pickle\n",
    "from scipy import stats"
   ]
  },
  {
   "cell_type": "code",
   "execution_count": 2,
   "id": "1e7d832f",
   "metadata": {},
   "outputs": [],
   "source": [
    "from generate_opt_objects import A_b_generation"
   ]
  },
  {
   "cell_type": "code",
   "execution_count": 3,
   "id": "9a51bf46",
   "metadata": {},
   "outputs": [],
   "source": [
    "import matplotlib\n",
    "\n",
    "# matplotlib settings\n",
    "matplotlib.rcParams['text.usetex'] = True\n",
    "plt.rcParams.update({'font.size': 18})\n",
    "plt.rc('text.latex', preamble=r'\\usepackage{bm}')"
   ]
  },
  {
   "cell_type": "code",
   "execution_count": 4,
   "id": "35f45225",
   "metadata": {},
   "outputs": [],
   "source": [
    "# results base directory\n",
    "BASE_DIR = './data/carbon_flux/results'\n",
    "\n",
    "# save filepath\n",
    "SAVE_FIG_BASE = '../figures/interval_optimizations/northern_hemisphere_jun2010/dual/20'\n",
    "\n",
    "# plotting directory\n",
    "IMAGE_PATH = '/Users/mikestanley/Research/Carbon_Flux/optimization/figures/final_images'"
   ]
  },
  {
   "cell_type": "code",
   "execution_count": 5,
   "id": "2f89528e",
   "metadata": {},
   "outputs": [],
   "source": [
    "# paths\n",
    "OBS_FP = '../fixed_optimization_inputs/y_affine_corrected.npy'"
   ]
  },
  {
   "cell_type": "code",
   "execution_count": 6,
   "id": "b33d39fa",
   "metadata": {},
   "outputs": [],
   "source": [
    "# get necessary objects\n",
    "with open(OBS_FP, 'rb') as f:\n",
    "    y_obs = np.load(f)\n",
    "    \n",
    "# gosat data\n",
    "with open('../fixed_optimization_inputs/gosat_df_jan1_aug31_2010.csv', 'rb') as f:\n",
    "    gosat_df = pd.read_csv(f)\n",
    "L_inv_vec = 1 / gosat_df.xco2_unc.values\n",
    "    \n",
    "# tranform the data\n",
    "y_tilde = np.multiply(L_inv_vec, y_obs)\n",
    "\n",
    "CONSTR_DIR = '/Users/mikestanley/Research/Carbon_Flux/optimization/data/sign_corrected'\n",
    "A, b = A_b_generation(\n",
    "    box_constraint_fp=CONSTR_DIR + '/scipy_bnds.pkl'\n",
    ")\n",
    "\n",
    "FUNC_BASE = '/Users/mikestanley/Research/Carbon_Flux/optimization'\n",
    "FUNC_FP = FUNC_BASE + '/src_admm/data/carbon_flux/objects/nh_june_functional.npy'\n",
    "FUNC_NO_CONTR_FP = FUNC_BASE + '/src_admm/data/carbon_flux/objects/nh_june_functional_no_control.npy'\n",
    "with open(FUNC_FP, 'rb') as f:\n",
    "    h = np.load(f)\n",
    "with open(FUNC_NO_CONTR_FP, 'rb') as f:\n",
    "    h_no_contr = np.load(f)"
   ]
  },
  {
   "cell_type": "code",
   "execution_count": 7,
   "id": "44ba4437",
   "metadata": {},
   "outputs": [],
   "source": [
    "# psi_alpha\n",
    "with open('./data/carbon_flux/objects/opt_res_cont.pkl', 'rb') as f:\n",
    "    opt_slack = pickle.load(f)\n",
    "    \n",
    "PSI_ALPHA = np.sqrt(stats.chi2.ppf(q=.95, df=1) + opt_slack[1])"
   ]
  },
  {
   "cell_type": "code",
   "execution_count": 8,
   "id": "71b772b9",
   "metadata": {},
   "outputs": [
    {
     "name": "stdout",
     "output_type": "stream",
     "text": [
      "(12, 72, 46)\n",
      "True functional value: -0.29862735072828017\n"
     ]
    }
   ],
   "source": [
    "# true functional value\n",
    "# read in the jules fluxes\n",
    "with open('/Users/mikestanley/Research/Carbon_Flux/optimization/data/jules_month_avg.npy', 'rb') as f:\n",
    "    jules_month_flux = np.load(f)\n",
    "print(jules_month_flux.shape)\n",
    "\n",
    "true_func_val = np.dot(\n",
    "    np.swapaxes(jules_month_flux[:8, :, :], axis1=1, axis2=2).flatten(),\n",
    "    h_no_contr\n",
    ")\n",
    "\n",
    "print('True functional value: %s' % str(true_func_val))"
   ]
  },
  {
   "cell_type": "markdown",
   "id": "758972fb",
   "metadata": {},
   "source": [
    "# Plotting Functions"
   ]
  },
  {
   "cell_type": "code",
   "execution_count": 9,
   "id": "44ad91f0",
   "metadata": {},
   "outputs": [],
   "source": [
    "def global_avg_plot(w_ser, title_str=None, figsize=(8, 5)):\n",
    "    \"\"\"\n",
    "    Globally averaged weights at daily, weekly, and month res\n",
    "    \n",
    "    Parameters\n",
    "    ----------\n",
    "        w_ser (pandas series) : weights indexed by time\n",
    "    \"\"\"\n",
    "    fig, ax = plt.subplots(ncols=1, nrows=1, figsize=figsize)\n",
    "    ts_day = w_ser.resample('D').mean()\n",
    "    ts_week = w_ser.resample('W').mean()\n",
    "    ts_month = w_ser.resample('M').mean()\n",
    "    ts_day.plot(ax=ax, label='Day')\n",
    "    ts_week.plot(ax=ax, label='Week')\n",
    "    ts_month.plot(ax=ax, label='Month')\n",
    "    ax.axhline(0, linestyle='--', color='gray')\n",
    "    ax.legend()\n",
    "    ax.set_title(title_str)\n",
    "    plt.show()\n",
    "    \n",
    "def month_map_plot(df, w_col_str, norm, vmin=None, vmax=None, figsize=(12, 16), save_fp=None):\n",
    "    \"\"\"\n",
    "    Monthly heat maps for the given weights\n",
    "    \n",
    "    Parameters\n",
    "    ----------\n",
    "        df        (pandas dataframe)  : contains columns - 'month', 'lon', 'lat', and w_col_str\n",
    "        w_col_str (str)               : name of w column in df to use\n",
    "        norm      (mcolors.Normalize) : for color scheme\n",
    "    \"\"\"\n",
    "    # w start\n",
    "    fig, ax = plt.subplots(ncols=2, nrows=4, figsize=figsize)\n",
    "    months = ['Jan', 'Feb', 'Mar', 'Apr', 'May', 'Jun', 'Jul', 'Aug']\n",
    "\n",
    "    for i in range(8):\n",
    "        row_idx = i // 2\n",
    "        col_idx = i % 2\n",
    "        month_idxs = df['month'].astype(int) == i + 1\n",
    "        sp_i = ax[row_idx, col_idx].scatter(\n",
    "            df['lon'][month_idxs], df['lat'][month_idxs],\n",
    "            c=df[w_col_str][month_idxs],\n",
    "            norm=norm, vmin=vmin, vmax=vmax,\n",
    "            s=14, cmap='seismic'\n",
    "        )\n",
    "        ax[row_idx, col_idx].set_title(months[i])\n",
    "\n",
    "    plt.colorbar(sp_i,ax=ax[0, 0])\n",
    "    if save_fp:\n",
    "        plt.savefig(save_fp, dpi=300)\n",
    "        plt.close()\n",
    "    else:\n",
    "        plt.show()"
   ]
  },
  {
   "cell_type": "markdown",
   "id": "b98e74fd",
   "metadata": {},
   "source": [
    "# Optimization Diagnostics"
   ]
  },
  {
   "cell_type": "markdown",
   "id": "dd7b799c",
   "metadata": {},
   "source": [
    "#### Convergence Plots"
   ]
  },
  {
   "cell_type": "code",
   "execution_count": 10,
   "id": "be603d6f",
   "metadata": {},
   "outputs": [],
   "source": [
    "# read in the raw stdout file\n",
    "with open(BASE_DIR + '/20/stdout.txt', 'r') as f:\n",
    "    stdout_raw = f.readlines()"
   ]
  },
  {
   "cell_type": "code",
   "execution_count": 13,
   "id": "33059329",
   "metadata": {},
   "outputs": [],
   "source": [
    "# isolate the trajectories from the w optimization\n",
    "all_obj_vals = [float(line[22:34].replace('D', 'e')) for line in stdout_raw if 'At iterate' in line]\n",
    "traj_w_01 = all_obj_vals[:13]\n",
    "traj_c_01 = all_obj_vals[13:16]\n",
    "traj_w_02 = all_obj_vals[16:29]\n",
    "traj_c_02 = all_obj_vals[29:32]\n",
    "traj_w_03 = all_obj_vals[32:45]\n",
    "traj_c_03 = all_obj_vals[45:48]\n",
    "traj_w_04 = all_obj_vals[48:61]\n",
    "traj_c_04 = all_obj_vals[61:64]\n",
    "traj_w_05 = all_obj_vals[64:77]\n",
    "traj_c_05 = all_obj_vals[77:80]\n",
    "traj_w_06 = all_obj_vals[80:]\n",
    "# traj_c_06 = all_obj_vals[93:96]\n",
    "# traj_w_07 = all_obj_vals[96:109]\n",
    "# traj_c_07 = all_obj_vals[109:112]\n",
    "# traj_w_08 = all_obj_vals[112:125]\n",
    "# traj_c_08 = all_obj_vals[125:128]\n",
    "# traj_w_09 = all_obj_vals[128:141]\n",
    "# traj_c_09 = all_obj_vals[141:144]\n",
    "# traj_w_10 = all_obj_vals[144:157]\n",
    "# traj_c_10 = all_obj_vals[157:]"
   ]
  },
  {
   "cell_type": "code",
   "execution_count": 15,
   "id": "abbc97f8",
   "metadata": {},
   "outputs": [
    {
     "data": {
      "image/png": "[encoded data removed]",
      "text/plain": [
       "<Figure size 864x1440 with 20 Axes>"
      ]
     },
     "metadata": {
      "needs_background": "light"
     },
     "output_type": "display_data"
    }
   ],
   "source": [
    "fig, ax = plt.subplots(ncols=4, nrows=5, figsize=(12, 20), sharex=True)\n",
    "\n",
    "# iteration 1\n",
    "ax[0, 0].plot(np.arange(1, len(traj_w_01) + 1), traj_w_01)\n",
    "ax[0, 1].plot(np.arange(1, len(traj_c_01) + 1), traj_c_01)\n",
    "\n",
    "# iteration 2\n",
    "ax[0, 2].plot(np.arange(1, len(traj_w_02) + 1), traj_w_02)\n",
    "ax[0, 3].plot(np.arange(1, len(traj_c_02) + 1), traj_c_02)\n",
    "\n",
    "# iteration 3\n",
    "ax[1, 0].plot(np.arange(1, len(traj_w_03) + 1), traj_w_03)\n",
    "ax[1, 1].plot(np.arange(1, len(traj_c_03) + 1), traj_c_03)\n",
    "\n",
    "# iteration 4\n",
    "ax[1, 2].plot(np.arange(1, len(traj_w_04) + 1), traj_w_04)\n",
    "ax[1, 3].plot(np.arange(1, len(traj_c_04) + 1), traj_c_04)\n",
    "\n",
    "# iteration 5\n",
    "ax[2, 0].plot(np.arange(1, len(traj_w_05) + 1), traj_w_05)\n",
    "ax[2, 1].plot(np.arange(1, len(traj_c_05) + 1), traj_c_05)\n",
    "\n",
    "# iteration 6\n",
    "ax[2, 2].plot(np.arange(1, len(traj_w_06) + 1), traj_w_06)\n",
    "# ax[2, 3].plot(np.arange(1, len(traj_c_06) + 1), traj_c_06)\n",
    "\n",
    "# # iteration 7\n",
    "# ax[3, 0].plot(np.arange(1, len(traj_w_07) + 1), traj_w_07)\n",
    "# ax[3, 1].plot(np.arange(1, len(traj_c_07) + 1), traj_c_07)\n",
    "\n",
    "# # iteration 8\n",
    "# ax[3, 2].plot(np.arange(1, len(traj_w_08) + 1), traj_w_08)\n",
    "# ax[3, 3].plot(np.arange(1, len(traj_c_08) + 1), traj_c_08)\n",
    "\n",
    "# # iteration 9\n",
    "# ax[4, 0].plot(np.arange(1, len(traj_w_09) + 1), traj_w_09)\n",
    "# ax[4, 1].plot(np.arange(1, len(traj_c_09) + 1), traj_c_09)\n",
    "\n",
    "# # iteration 10\n",
    "# ax[4, 2].plot(np.arange(1, len(traj_w_10) + 1), traj_w_10)\n",
    "# ax[4, 3].plot(np.arange(1, len(traj_c_10) + 1), traj_c_10)\n",
    "\n",
    "# labels\n",
    "ax[0, 0].set_title('Iter 1: w opt')\n",
    "ax[0, 1].set_title('Iter 1: c opt')\n",
    "ax[0, 2].set_title('Iter 2: w opt')\n",
    "ax[0, 3].set_title('Iter 2: c opt')\n",
    "ax[1, 0].set_title('Iter 3: w opt')\n",
    "ax[1, 1].set_title('Iter 3: c opt')\n",
    "ax[1, 2].set_title('Iter 4: w opt')\n",
    "ax[1, 3].set_title('Iter 4: c opt')\n",
    "ax[2, 0].set_title('Iter 5: w opt')\n",
    "ax[2, 1].set_title('Iter 5: c opt')\n",
    "ax[2, 2].set_title('Iter 6: w opt')\n",
    "ax[2, 3].set_title('Iter 6: c opt')\n",
    "ax[3, 0].set_title('Iter 7: w opt')\n",
    "ax[3, 1].set_title('Iter 7: c opt')\n",
    "ax[3, 2].set_title('Iter 8: w opt')\n",
    "ax[3, 3].set_title('Iter 8: c opt')\n",
    "ax[4, 0].set_title('Iter 9: w opt')\n",
    "ax[4, 1].set_title('Iter 9: c opt')\n",
    "ax[4, 2].set_title('Iter 10: w opt')\n",
    "ax[4, 3].set_title('Iter 10: c opt')\n",
    "\n",
    "plt.savefig(SAVE_FIG_BASE + '/suboptimization_progress.png', dpi=300)\n",
    "plt.show()"
   ]
  },
  {
   "cell_type": "markdown",
   "id": "3508797d",
   "metadata": {},
   "source": [
    "#### Final Results"
   ]
  },
  {
   "cell_type": "code",
   "execution_count": 17,
   "id": "ea69652c",
   "metadata": {},
   "outputs": [
    {
     "name": "stdout",
     "output_type": "stream",
     "text": [
      "{'objective_evals': [-1.3460070550023886, -1.475918449106171, -2.422566083263448, -2.5433129687218186, -3.1419751238215703], 'w_opt_vecs': array([[ 0.00000000e+00,  0.00000000e+00,  0.00000000e+00, ...,\n",
      "        -1.38726683e-05,  2.11896143e-06,  3.12749872e-03],\n",
      "       [ 0.00000000e+00,  0.00000000e+00,  0.00000000e+00, ...,\n",
      "         1.07419027e-04,  1.46481199e-04,  3.23264633e-03],\n",
      "       [ 0.00000000e+00,  0.00000000e+00,  0.00000000e+00, ...,\n",
      "         7.86585602e-05,  1.30323025e-04,  3.41170174e-03],\n",
      "       ...,\n",
      "       [ 0.00000000e+00,  0.00000000e+00,  0.00000000e+00, ...,\n",
      "         0.00000000e+00,  0.00000000e+00,  0.00000000e+00],\n",
      "       [ 0.00000000e+00,  0.00000000e+00,  0.00000000e+00, ...,\n",
      "         0.00000000e+00,  0.00000000e+00,  0.00000000e+00],\n",
      "       [ 0.00000000e+00,  0.00000000e+00,  0.00000000e+00, ...,\n",
      "         0.00000000e+00,  0.00000000e+00,  0.00000000e+00]]), 'c_opt_vecs': array([[0., 0., 0., ..., 0., 0., 0.],\n",
      "       [0., 0., 0., ..., 0., 0., 0.],\n",
      "       [0., 0., 0., ..., 0., 0., 0.],\n",
      "       ...,\n",
      "       [0., 0., 0., ..., 0., 0., 0.],\n",
      "       [0., 0., 0., ..., 0., 0., 0.],\n",
      "       [0., 0., 0., ..., 0., 0., 0.]]), 'lambda_opt_vecs': array([[0., 0., 0., ..., 0., 0., 0.],\n",
      "       [0., 0., 0., ..., 0., 0., 0.],\n",
      "       [0., 0., 0., ..., 0., 0., 0.],\n",
      "       ...,\n",
      "       [0., 0., 0., ..., 0., 0., 0.],\n",
      "       [0., 0., 0., ..., 0., 0., 0.],\n",
      "       [0., 0., 0., ..., 0., 0., 0.]]), 'KTw_vecs': array([[0., 0., 0., ..., 0., 0., 0.],\n",
      "       [0., 0., 0., ..., 0., 0., 0.],\n",
      "       [0., 0., 0., ..., 0., 0., 0.],\n",
      "       ...,\n",
      "       [0., 0., 0., ..., 0., 0., 0.],\n",
      "       [0., 0., 0., ..., 0., 0., 0.],\n",
      "       [0., 0., 0., ..., 0., 0., 0.]])}\n"
     ]
    }
   ],
   "source": [
    "# final results from the previous run\n",
    "with open(BASE_DIR + '/20/opt_output_04.pkl', 'rb') as f:\n",
    "    final_res = pickle.load(f)\n",
    "print(final_res)"
   ]
  },
  {
   "cell_type": "code",
   "execution_count": 19,
   "id": "e06c9874",
   "metadata": {},
   "outputs": [
    {
     "name": "stdout",
     "output_type": "stream",
     "text": [
      "[0.09087014 0.07938836 0.07418119 0.07179183 0.06861804]\n"
     ]
    }
   ],
   "source": [
    "NUM_ITERS = 5\n",
    "feasibility = np.zeros(NUM_ITERS)\n",
    "for i in range(NUM_ITERS):\n",
    "    feasibility[i] = np.linalg.norm(h - A.T @ final_res['c_opt_vecs'][i] - final_res['KTw_vecs'][i])\n",
    "print(feasibility)"
   ]
  },
  {
   "cell_type": "code",
   "execution_count": 20,
   "id": "c48a98a3",
   "metadata": {},
   "outputs": [
    {
     "data": {
      "image/png": "[encoded data removed]",
      "text/plain": [
       "<Figure size 576x360 with 1 Axes>"
      ]
     },
     "metadata": {
      "needs_background": "light"
     },
     "output_type": "display_data"
    }
   ],
   "source": [
    "plt.figure(figsize=(8, 5))\n",
    "plt.plot(np.arange(1, NUM_ITERS + 1), feasibility)\n",
    "plt.scatter(np.arange(1, NUM_ITERS + 1), feasibility, label='ADMM')\n",
    "\n",
    "plt.xticks(ticks=np.arange(1, NUM_ITERS + 1), labels=np.arange(1, NUM_ITERS + 1))\n",
    "plt.xlabel('ADMM Iteration')\n",
    "plt.ylabel('Feasibility Criterion')\n",
    "plt.legend()\n",
    "plt.tight_layout()\n",
    "plt.savefig(SAVE_FIG_BASE + '/feasibility_progress.png', dpi=300)\n",
    "plt.show()"
   ]
  },
  {
   "cell_type": "code",
   "execution_count": 22,
   "id": "c7e9decb",
   "metadata": {},
   "outputs": [
    {
     "data": {
      "text/plain": [
       "[-1.3460070550023886,\n",
       " -1.475918449106171,\n",
       " -2.422566083263448,\n",
       " -2.5433129687218186,\n",
       " -3.1419751238215703]"
      ]
     },
     "execution_count": 22,
     "metadata": {},
     "output_type": "execute_result"
    }
   ],
   "source": [
    "final_res['objective_evals']"
   ]
  },
  {
   "cell_type": "code",
   "execution_count": 23,
   "id": "5ca88187",
   "metadata": {},
   "outputs": [
    {
     "data": {
      "image/png": "[encoded data removed]",
      "text/plain": [
       "<Figure size 576x360 with 1 Axes>"
      ]
     },
     "metadata": {
      "needs_background": "light"
     },
     "output_type": "display_data"
    }
   ],
   "source": [
    "plt.figure(figsize=(8, 5))\n",
    "plt.plot(np.arange(1, NUM_ITERS + 1), final_res['objective_evals'])\n",
    "plt.scatter(np.arange(1, NUM_ITERS + 1), final_res['objective_evals'], label='ADMM')\n",
    "plt.axhline(true_func_val, linestyle='--', label='NH Functional', color='red')\n",
    "\n",
    "plt.xticks(ticks=np.arange(1, NUM_ITERS + 1), labels=np.arange(1, NUM_ITERS + 1))\n",
    "# plt.ylim(-1, 1)\n",
    "plt.xlabel('ADMM Iteration')\n",
    "plt.ylabel('Flux (gC/m$^2$/day)')\n",
    "plt.legend()\n",
    "plt.tight_layout()\n",
    "plt.savefig(SAVE_FIG_BASE + '/endpoint_progress.png', dpi=300)\n",
    "plt.show()"
   ]
  },
  {
   "cell_type": "markdown",
   "id": "18abd0e7",
   "metadata": {},
   "source": [
    "# Starting positions"
   ]
  },
  {
   "cell_type": "markdown",
   "id": "b0509aed",
   "metadata": {},
   "source": [
    "Generated from run 19."
   ]
  },
  {
   "cell_type": "code",
   "execution_count": 11,
   "id": "7bcba198",
   "metadata": {},
   "outputs": [],
   "source": [
    "SAVE_BASE = '/Users/mikestanley/Research/Carbon_Flux/optimization/src_admm'\n",
    "SAVE_BASE += '/data/carbon_flux/results/20/intermediate_starts'"
   ]
  },
  {
   "cell_type": "code",
   "execution_count": 12,
   "id": "fc83c814",
   "metadata": {},
   "outputs": [],
   "source": [
    "# read in results from 19\n",
    "with open(BASE_DIR + '/19/final_results.pkl', 'rb') as f:\n",
    "    final_res_19 = pickle.load(f)"
   ]
  },
  {
   "cell_type": "code",
   "execution_count": 13,
   "id": "9af433e0",
   "metadata": {},
   "outputs": [],
   "source": [
    "# saving w starting position\n",
    "with open(SAVE_BASE + '/w_start_it0.npy', 'wb') as f:\n",
    "    np.save(file=f, arr=final_res_19['w_opt_output']['vectors'][-1])\n",
    "    \n",
    "# saving c starting position\n",
    "with open(SAVE_BASE + '/c_start_it0.npy', 'wb') as f:\n",
    "    np.save(file=f, arr=final_res_19['c_opt_output']['vectors'][-1])\n",
    "    \n",
    "# saving lambda starting position\n",
    "with open(SAVE_BASE + '/lambda_start_it0.npy', 'wb') as f:\n",
    "    np.save(file=f, arr=final_res_19['lambda_opt_output']['vectors'][-1])"
   ]
  },
  {
   "cell_type": "code",
   "execution_count": null,
   "id": "671a40f7",
   "metadata": {},
   "outputs": [],
   "source": []
  }
 ],
 "metadata": {
  "kernelspec": {
   "display_name": "Python 3 (ipykernel)",
   "language": "python",
   "name": "python3"
  },
  "language_info": {
   "codemirror_mode": {
    "name": "ipython",
    "version": 3
   },
   "file_extension": ".py",
   "mimetype": "text/x-python",
   "name": "python",
   "nbconvert_exporter": "python",
   "pygments_lexer": "ipython3",
   "version": "3.9.11"
  }
 },
 "nbformat": 4,
 "nbformat_minor": 5
}
